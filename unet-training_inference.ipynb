{
 "cells": [
  {
   "cell_type": "code",
   "execution_count": 1,
   "id": "7bd8719e-d73a-4f71-9fa4-1514d460e622",
   "metadata": {
    "execution": {
     "iopub.execute_input": "2025-10-15T18:21:14.195512Z",
     "iopub.status.busy": "2025-10-15T18:21:14.195283Z",
     "iopub.status.idle": "2025-10-15T18:21:15.808039Z",
     "shell.execute_reply": "2025-10-15T18:21:15.807249Z",
     "shell.execute_reply.started": "2025-10-15T18:21:14.195495Z"
    },
    "trusted": true
   },
   "outputs": [],
   "source": [
    "#Just to copy the dataset from the input to the output in kaggle\n",
    "!cp -r /kaggle/input/'dataset-unet-olives' ./datasets"
   ]
  },
  {
   "cell_type": "code",
   "execution_count": 1,
   "id": "0dbf216d-7389-4a98-b118-c48f586e02cd",
   "metadata": {
    "execution": {
     "iopub.execute_input": "2025-10-15T18:21:20.492708Z",
     "iopub.status.busy": "2025-10-15T18:21:20.492415Z",
     "iopub.status.idle": "2025-10-15T18:21:24.573676Z",
     "shell.execute_reply": "2025-10-15T18:21:24.573073Z",
     "shell.execute_reply.started": "2025-10-15T18:21:20.492683Z"
    },
    "trusted": true
   },
   "outputs": [],
   "source": [
    "import torch, gc\n",
    "gc.collect()\n",
    "torch.cuda.empty_cache()\n"
   ]
  },
  {
   "cell_type": "code",
   "execution_count": null,
   "id": "22993f3e-50fd-4057-8aab-c72c21639a59",
   "metadata": {
    "execution": {
     "iopub.execute_input": "2025-10-15T18:21:45.350775Z",
     "iopub.status.busy": "2025-10-15T18:21:45.350013Z",
     "iopub.status.idle": "2025-10-15T18:30:02.042620Z",
     "shell.execute_reply": "2025-10-15T18:30:02.041800Z",
     "shell.execute_reply.started": "2025-10-15T18:21:45.350748Z"
    },
    "trusted": true
   },
   "outputs": [],
   "source": [
    "import os\n",
    "from pathlib import Path\n",
    "from tqdm import tqdm\n",
    "import numpy as np\n",
    "from PIL import Image\n",
    "import matplotlib.pyplot as plt\n",
    "import torch\n",
    "import torch.nn as nn\n",
    "import torch.optim as optim\n",
    "from torch.utils.data import Dataset, DataLoader\n",
    "import albumentations as A\n",
    "from albumentations.pytorch import ToTensorV2\n",
    "import gc\n",
    "\n",
    "# Clear memory at start\n",
    "gc.collect()\n",
    "torch.cuda.empty_cache()\n",
    "\n",
    "# ===========================\n",
    "#  U-Net model (PyTorch)\n",
    "# ===========================\n",
    "class DoubleConv(nn.Module):\n",
    "    def __init__(self, in_ch, out_ch):\n",
    "        super().__init__()\n",
    "        self.net = nn.Sequential(\n",
    "            nn.Conv2d(in_ch, out_ch, kernel_size=3, padding=1),\n",
    "            nn.BatchNorm2d(out_ch),\n",
    "            nn.ReLU(inplace=True),\n",
    "            nn.Conv2d(out_ch, out_ch, kernel_size=3, padding=1),\n",
    "            nn.BatchNorm2d(out_ch),\n",
    "            nn.ReLU(inplace=True),\n",
    "        )\n",
    "    def forward(self, x): return self.net(x)\n",
    "\n",
    "class UNet(nn.Module):\n",
    "    def __init__(self, in_channels=3, out_channels=1, base_filters=64):\n",
    "        super().__init__()\n",
    "        f = base_filters\n",
    "        self.inc = DoubleConv(in_channels, f)\n",
    "        self.down1 = nn.Sequential(nn.MaxPool2d(2), DoubleConv(f, f*2))\n",
    "        self.down2 = nn.Sequential(nn.MaxPool2d(2), DoubleConv(f*2, f*4))\n",
    "        self.down3 = nn.Sequential(nn.MaxPool2d(2), DoubleConv(f*4, f*8))\n",
    "        self.down4 = nn.Sequential(nn.MaxPool2d(2), DoubleConv(f*8, f*8))\n",
    "        self.up1 = nn.ConvTranspose2d(f*8, f*8, kernel_size=2, stride=2)\n",
    "        self.conv1 = DoubleConv(f*16, f*4)\n",
    "        self.up2 = nn.ConvTranspose2d(f*4, f*4, kernel_size=2, stride=2)\n",
    "        self.conv2 = DoubleConv(f*8, f*2)\n",
    "        self.up3 = nn.ConvTranspose2d(f*2, f*2, kernel_size=2, stride=2)\n",
    "        self.conv3 = DoubleConv(f*4, f)\n",
    "        self.up4 = nn.ConvTranspose2d(f, f, kernel_size=2, stride=2)\n",
    "        self.conv4 = DoubleConv(f*2, f)\n",
    "        self.outc = nn.Conv2d(f, out_channels, kernel_size=1)\n",
    "    \n",
    "    def forward(self, x):\n",
    "        x1 = self.inc(x)        # 1\n",
    "        x2 = self.down1(x1)     # 1/2\n",
    "        x3 = self.down2(x2)     # 1/4\n",
    "        x4 = self.down3(x3)     # 1/8\n",
    "        x5 = self.down4(x4)     # 1/16\n",
    "        x = self.up1(x5)\n",
    "        x = torch.cat([x, x4], dim=1)\n",
    "        x = self.conv1(x)\n",
    "        x = self.up2(x)\n",
    "        x = torch.cat([x, x3], dim=1)\n",
    "        x = self.conv2(x)\n",
    "        x = self.up3(x)\n",
    "        x = torch.cat([x, x2], dim=1)\n",
    "        x = self.conv3(x)\n",
    "        x = self.up4(x)\n",
    "        x = torch.cat([x, x1], dim=1)\n",
    "        x = self.conv4(x)\n",
    "        x = self.outc(x)\n",
    "        return x\n",
    "\n",
    "# ===========================\n",
    "# Dataset (Fixed)\n",
    "# ===========================\n",
    "class SegDataset(Dataset):\n",
    "    def __init__(self, images_dir, masks_dir, transforms=None, img_exts=(\".png\",\".jpg\",\".tif\",\".jpeg\")):\n",
    "        self.images_dir = Path(images_dir)\n",
    "        self.masks_dir = Path(masks_dir)\n",
    "        self.images = sorted([p for p in self.images_dir.iterdir() if p.suffix.lower() in img_exts])\n",
    "        self.transforms = transforms\n",
    "        \n",
    "    def __len__(self): \n",
    "        return len(self.images)\n",
    "    \n",
    "    def __getitem__(self, idx):\n",
    "        img_path = self.images[idx]\n",
    "        # Try multiple mask naming conventions\n",
    "        mask_candidates = [\n",
    "            self.masks_dir / (img_path.stem + \"_mask.png\"),\n",
    "            self.masks_dir / (img_path.stem + \".png\"),\n",
    "            self.masks_dir / img_path.name,\n",
    "        ]\n",
    "        \n",
    "        mask_path = None\n",
    "        for candidate in mask_candidates:\n",
    "            if candidate.exists():\n",
    "                mask_path = candidate\n",
    "                break\n",
    "        \n",
    "        if mask_path is None:\n",
    "            raise FileNotFoundError(f\"No mask found for {img_path.name}\")\n",
    "        \n",
    "        img = np.array(Image.open(img_path).convert(\"RGB\"))\n",
    "        mask = np.array(Image.open(mask_path).convert(\"L\"))\n",
    "        \n",
    "        # Normalize mask to 0/1\n",
    "        if mask.max() > 1:\n",
    "            mask = (mask > 127).astype(np.uint8)\n",
    "        \n",
    "        # Apply transforms\n",
    "        if self.transforms:\n",
    "            augmented = self.transforms(image=img, mask=mask)\n",
    "            img = augmented[\"image\"]\n",
    "            mask = augmented[\"mask\"]\n",
    "        else:\n",
    "            # Default: just convert to tensor\n",
    "            transform = A.Compose([\n",
    "                A.Normalize(mean=(0.485,0.456,0.406), std=(0.229,0.224,0.225)),\n",
    "                ToTensorV2()\n",
    "            ])\n",
    "            augmented = transform(image=img, mask=mask)\n",
    "            img = augmented[\"image\"]\n",
    "            mask = augmented[\"mask\"]\n",
    "        \n",
    "        # Ensure mask is (H, W) and long type\n",
    "        if mask.ndim == 3:\n",
    "            mask = mask.squeeze(0)\n",
    "        mask = mask.long()\n",
    "        \n",
    "        return img, mask\n",
    "\n",
    "# ===========================\n",
    "# Metrics (Improved)\n",
    "# ===========================\n",
    "\n",
    "from IoU_score import iou_score, dice_score\n",
    "\n",
    "# ===========================\n",
    "# Utility: get transforms\n",
    "# ===========================\n",
    "from get_transform import get_transforms\n",
    "\n",
    "# ===========================\n",
    "# Training routine (Improved)\n",
    "# ===========================\n",
    "from Trainer_protocol import train_model\n",
    "# ===========================\n",
    "# Inference helper + visualize\n",
    "# ===========================\n",
    "from Inference_and_visualize import predict_and_visualize\n",
    "    \n",
    "    \n",
    "\n",
    "# ===========================\n",
    "# Plot training history\n",
    "# ===========================\n",
    "from plot_training_hist import plot_history\n",
    "\n",
    "# ===========================\n",
    "# Example usage\n",
    "# ===========================\n",
    "if __name__ == \"__main__\":\n",
    "    # Edit these paths to your dataset\n",
    "    train_images = r\"F:\\POST GRADUATE CRASTE LF\\SECOND YEAR\\Machine Learning\\UNET\\Dataset_unet\\images\\train\"\n",
    "    train_masks  = r\"F:\\POST GRADUATE CRASTE LF\\SECOND YEAR\\Machine Learning\\UNET\\Dataset_unet\\i_masks\"\n",
    "    val_images   = r\"F:\\POST GRADUATE CRASTE LF\\SECOND YEAR\\Machine Learning\\UNET\\Dataset_unet\\images\\val\"\n",
    "    val_masks    = r\"F:\\POST GRADUATE CRASTE LF\\SECOND YEAR\\Machine Learning\\UNET\\Dataset_unet\\v_masks\"\n",
    "    \n",
    "    # Parameters\n",
    "    NUM_CLASSES = 2\n",
    "    IMG_SIZE = 640\n",
    "    EPOCHS = 50\n",
    "    BATCH = 2\n",
    "    LR = 1e-4\n",
    "    DEVICE = None  # Auto-detect\n",
    "    \n",
    "    # Train\n",
    "    # model, history = train_model(\n",
    "    #     train_images, train_masks,\n",
    "    #     val_images, val_masks,\n",
    "    #     num_classes=NUM_CLASSES,\n",
    "    #     img_size=IMG_SIZE,\n",
    "    #     epochs=EPOCHS,\n",
    "    #     batch_size=BATCH,\n",
    "    #     lr=LR,\n",
    "    #     device=DEVICE,\n",
    "    #     model_save_path=\"unet_best.pth\"\n",
    "    # )\n",
    "    \n",
    "    # # Plot results\n",
    "    # plot_history(history)\n",
    "    \n",
    "    "
   ]
  },
  {
   "cell_type": "code",
   "execution_count": 4,
   "id": "dd66b189-56ac-41dd-9805-1a08c15ed7f1",
   "metadata": {
    "execution": {
     "iopub.execute_input": "2025-10-15T18:31:53.903109Z",
     "iopub.status.busy": "2025-10-15T18:31:53.902312Z",
     "iopub.status.idle": "2025-10-15T18:31:54.783633Z",
     "shell.execute_reply": "2025-10-15T18:31:54.782588Z",
     "shell.execute_reply.started": "2025-10-15T18:31:53.903085Z"
    },
    "trusted": true
   },
   "outputs": [
    {
     "data": {
      "image/png": "[encoded data removed]",
      "text/plain": [
       "<Figure size 1000x500 with 2 Axes>"
      ]
     },
     "metadata": {},
     "output_type": "display_data"
    },
    {
     "data": {
      "text/plain": [
       "array([[0, 0, 0, ..., 0, 0, 0],\n",
       "       [0, 0, 0, ..., 0, 0, 0],\n",
       "       [0, 0, 1, ..., 0, 0, 0],\n",
       "       ...,\n",
       "       [0, 0, 0, ..., 0, 0, 0],\n",
       "       [0, 0, 0, ..., 0, 0, 0],\n",
       "       [0, 0, 0, ..., 0, 0, 0]], shape=(1024, 1024), dtype=uint8)"
      ]
     },
     "execution_count": 4,
     "metadata": {},
     "output_type": "execute_result"
    }
   ],
   "source": [
    "\n",
    "# Test on a sample image\n",
    "sample_image = r\"F:\\POST GRADUATE CRASTE LF\\SECOND YEAR\\Machine Learning\\UNET\\Dataset_unet\\images\\train\\tile_y00006_x00015_png.rf.3ad86fd57d4cffe67e0a97e53c9fe4d9.jpg\"\n",
    "predict_and_visualize(r\"F:\\POST GRADUATE CRASTE LF\\SECOND YEAR\\Machine Learning\\UNET\\unet_best.pth\", sample_image)"
   ]
  },
  {
   "cell_type": "code",
   "execution_count": 9,
   "id": "f7e38628",
   "metadata": {},
   "outputs": [],
   "source": [
    "model_path = \"unet_best.pth\""
   ]
  },
  {
   "cell_type": "code",
   "execution_count": 16,
   "id": "32a8bd06",
   "metadata": {},
   "outputs": [
    {
     "name": "stdout",
     "output_type": "stream",
     "text": [
      "Raw outputs shape: torch.Size([1, 2, 1024, 1024])\n",
      "Raw outputs range: [-2.921, 16.868]\n",
      "Class 0 probs: [0.048, 1.000]\n",
      "Class 1 probs: [0.000, 0.952]\n",
      "Threshold 0.1: 998758/1048576 positive pixels (95.2%)\n",
      "Threshold 0.3: 971565/1048576 positive pixels (92.7%)\n",
      "Threshold 0.5: 889616/1048576 positive pixels (84.8%)\n",
      "Threshold 0.7: 850519/1048576 positive pixels (81.1%)\n",
      "Using device: cpu\n",
      "Detected model with 2 output classes\n",
      "Model loaded successfully\n",
      "Processing 552 tiles from orthomosaic\n"
     ]
    },
    {
     "name": "stderr",
     "output_type": "stream",
     "text": [
      "Processing tiles:   0%|          | 1/276 [00:04<22:05,  4.82s/it]"
     ]
    },
    {
     "name": "stdout",
     "output_type": "stream",
     "text": [
      "Output range: [-3.074, 9.508]\n",
      "Class 1 prob range: [0.000, 0.965]\n",
      "Positive pixels in batch: 793710 / 819200\n",
      "Saved debug image with 5 polygons\n"
     ]
    },
    {
     "name": "stderr",
     "output_type": "stream",
     "text": [
      "Processing tiles:   1%|          | 2/276 [00:09<21:02,  4.61s/it]"
     ]
    },
    {
     "name": "stdout",
     "output_type": "stream",
     "text": [
      "Output range: [-2.579, 9.759]\n",
      "Class 1 prob range: [0.000, 0.950]\n",
      "Positive pixels in batch: 798342 / 819200\n",
      "Saved debug image with 1 polygons\n"
     ]
    },
    {
     "name": "stderr",
     "output_type": "stream",
     "text": [
      "Processing tiles:   1%|          | 3/276 [00:14<21:12,  4.66s/it]"
     ]
    },
    {
     "name": "stdout",
     "output_type": "stream",
     "text": [
      "Output range: [-2.684, 9.759]\n",
      "Class 1 prob range: [0.000, 0.956]\n",
      "Positive pixels in batch: 784615 / 819200\n",
      "Saved debug image with 6 polygons\n"
     ]
    },
    {
     "name": "stderr",
     "output_type": "stream",
     "text": [
      "Processing tiles:   1%|▏         | 4/276 [00:18<21:40,  4.78s/it]"
     ]
    },
    {
     "name": "stdout",
     "output_type": "stream",
     "text": [
      "Output range: [-2.654, 1.137]\n",
      "Class 1 prob range: [0.273, 0.953]\n",
      "Positive pixels in batch: 819163 / 819200\n"
     ]
    },
    {
     "name": "stderr",
     "output_type": "stream",
     "text": [
      "Processing tiles:   2%|▏         | 5/276 [00:24<22:24,  4.96s/it]"
     ]
    },
    {
     "name": "stdout",
     "output_type": "stream",
     "text": [
      "Output range: [-2.779, 1.123]\n",
      "Class 1 prob range: [0.291, 0.957]\n",
      "Positive pixels in batch: 819197 / 819200\n"
     ]
    },
    {
     "name": "stderr",
     "output_type": "stream",
     "text": [
      "Processing tiles:   2%|▏         | 6/276 [00:28<21:38,  4.81s/it]"
     ]
    },
    {
     "name": "stdout",
     "output_type": "stream",
     "text": [
      "Output range: [-2.797, 3.887]\n",
      "Class 1 prob range: [0.013, 0.959]\n",
      "Positive pixels in batch: 812823 / 819200\n",
      "Saved debug image with 1 polygons\n"
     ]
    },
    {
     "name": "stderr",
     "output_type": "stream",
     "text": [
      "Processing tiles:   3%|▎         | 7/276 [00:33<21:13,  4.73s/it]"
     ]
    },
    {
     "name": "stdout",
     "output_type": "stream",
     "text": [
      "Output range: [-2.776, 5.410]\n",
      "Class 1 prob range: [0.003, 0.959]\n",
      "Positive pixels in batch: 786361 / 819200\n",
      "Saved debug image with 3 polygons\n"
     ]
    },
    {
     "name": "stderr",
     "output_type": "stream",
     "text": [
      "Processing tiles:   3%|▎         | 8/276 [00:37<20:50,  4.67s/it]"
     ]
    },
    {
     "name": "stdout",
     "output_type": "stream",
     "text": [
      "Output range: [-2.707, 9.458]\n",
      "Class 1 prob range: [0.000, 0.956]\n",
      "Positive pixels in batch: 763270 / 819200\n",
      "Saved debug image with 1 polygons\n"
     ]
    },
    {
     "name": "stderr",
     "output_type": "stream",
     "text": [
      "Processing tiles:   3%|▎         | 9/276 [00:42<20:14,  4.55s/it]"
     ]
    },
    {
     "name": "stdout",
     "output_type": "stream",
     "text": [
      "Output range: [-2.887, 14.417]\n",
      "Class 1 prob range: [0.000, 0.959]\n",
      "Positive pixels in batch: 785689 / 819200\n",
      "Saved debug image with 1 polygons\n"
     ]
    },
    {
     "name": "stderr",
     "output_type": "stream",
     "text": [
      "Processing tiles:   4%|▎         | 10/276 [00:46<19:53,  4.49s/it]"
     ]
    },
    {
     "name": "stdout",
     "output_type": "stream",
     "text": [
      "Output range: [-2.877, 14.245]\n",
      "Class 1 prob range: [0.000, 0.959]\n",
      "Positive pixels in batch: 812554 / 819200\n"
     ]
    },
    {
     "name": "stderr",
     "output_type": "stream",
     "text": [
      "Processing tiles:   4%|▍         | 11/276 [00:51<20:01,  4.54s/it]"
     ]
    },
    {
     "name": "stdout",
     "output_type": "stream",
     "text": [
      "Output range: [-2.877, 17.027]\n",
      "Class 1 prob range: [0.000, 0.963]\n",
      "Positive pixels in batch: 797050 / 819200\n",
      "Saved debug image with 4 polygons\n"
     ]
    },
    {
     "name": "stderr",
     "output_type": "stream",
     "text": [
      "Processing tiles:   4%|▍         | 12/276 [00:55<19:34,  4.45s/it]"
     ]
    },
    {
     "name": "stdout",
     "output_type": "stream",
     "text": [
      "Output range: [-2.768, 17.028]\n",
      "Class 1 prob range: [0.000, 0.960]\n",
      "Positive pixels in batch: 801375 / 819200\n",
      "Saved debug image with 3 polygons\n"
     ]
    },
    {
     "name": "stderr",
     "output_type": "stream",
     "text": [
      "Processing tiles:   5%|▍         | 13/276 [01:00<19:46,  4.51s/it]"
     ]
    },
    {
     "name": "stdout",
     "output_type": "stream",
     "text": [
      "Output range: [-3.027, 13.091]\n",
      "Class 1 prob range: [0.000, 0.962]\n",
      "Positive pixels in batch: 782587 / 819200\n",
      "Saved debug image with 3 polygons\n"
     ]
    },
    {
     "name": "stderr",
     "output_type": "stream",
     "text": [
      "Processing tiles:   5%|▌         | 14/276 [01:05<20:26,  4.68s/it]"
     ]
    },
    {
     "name": "stdout",
     "output_type": "stream",
     "text": [
      "Output range: [-2.579, 13.091]\n",
      "Class 1 prob range: [0.000, 0.950]\n",
      "Positive pixels in batch: 785066 / 819200\n",
      "Saved debug image with 3 polygons\n"
     ]
    },
    {
     "name": "stderr",
     "output_type": "stream",
     "text": [
      "Processing tiles:   5%|▌         | 15/276 [01:10<20:59,  4.83s/it]"
     ]
    },
    {
     "name": "stdout",
     "output_type": "stream",
     "text": [
      "Output range: [-2.579, 5.610]\n",
      "Class 1 prob range: [0.003, 0.950]\n",
      "Positive pixels in batch: 813745 / 819200\n",
      "Saved debug image with 2 polygons\n"
     ]
    },
    {
     "name": "stderr",
     "output_type": "stream",
     "text": [
      "Processing tiles:   6%|▌         | 16/276 [01:15<21:49,  5.04s/it]"
     ]
    },
    {
     "name": "stdout",
     "output_type": "stream",
     "text": [
      "Output range: [-2.551, 1.137]\n",
      "Class 1 prob range: [0.273, 0.947]\n",
      "Positive pixels in batch: 819163 / 819200\n"
     ]
    },
    {
     "name": "stderr",
     "output_type": "stream",
     "text": [
      "Processing tiles:   6%|▌         | 17/276 [01:21<22:25,  5.19s/it]"
     ]
    },
    {
     "name": "stdout",
     "output_type": "stream",
     "text": [
      "Output range: [-2.779, 1.236]\n",
      "Class 1 prob range: [0.286, 0.957]\n",
      "Positive pixels in batch: 819190 / 819200\n"
     ]
    },
    {
     "name": "stderr",
     "output_type": "stream",
     "text": [
      "Processing tiles:   7%|▋         | 18/276 [01:26<22:00,  5.12s/it]"
     ]
    },
    {
     "name": "stdout",
     "output_type": "stream",
     "text": [
      "Output range: [-2.779, 1.137]\n",
      "Class 1 prob range: [0.305, 0.957]\n",
      "Positive pixels in batch: 819200 / 819200\n"
     ]
    },
    {
     "name": "stderr",
     "output_type": "stream",
     "text": [
      "Processing tiles:   7%|▋         | 19/276 [01:31<21:50,  5.10s/it]"
     ]
    },
    {
     "name": "stdout",
     "output_type": "stream",
     "text": [
      "Output range: [-2.754, 4.314]\n",
      "Class 1 prob range: [0.008, 0.957]\n",
      "Positive pixels in batch: 817123 / 819200\n"
     ]
    },
    {
     "name": "stderr",
     "output_type": "stream",
     "text": [
      "Processing tiles:   7%|▋         | 20/276 [01:36<21:37,  5.07s/it]"
     ]
    },
    {
     "name": "stdout",
     "output_type": "stream",
     "text": [
      "Output range: [-2.733, 9.458]\n",
      "Class 1 prob range: [0.000, 0.957]\n",
      "Positive pixels in batch: 772706 / 819200\n",
      "Saved debug image with 1 polygons\n"
     ]
    },
    {
     "name": "stderr",
     "output_type": "stream",
     "text": [
      "Processing tiles:   8%|▊         | 21/276 [01:41<22:02,  5.19s/it]"
     ]
    },
    {
     "name": "stdout",
     "output_type": "stream",
     "text": [
      "Output range: [-2.934, 14.402]\n",
      "Class 1 prob range: [0.000, 0.960]\n",
      "Positive pixels in batch: 785043 / 819200\n",
      "Saved debug image with 1 polygons\n"
     ]
    },
    {
     "name": "stderr",
     "output_type": "stream",
     "text": [
      "Processing tiles:   8%|▊         | 22/276 [01:47<22:04,  5.21s/it]"
     ]
    },
    {
     "name": "stdout",
     "output_type": "stream",
     "text": [
      "Output range: [-2.837, 14.316]\n",
      "Class 1 prob range: [0.000, 0.959]\n",
      "Positive pixels in batch: 810031 / 819200\n"
     ]
    },
    {
     "name": "stderr",
     "output_type": "stream",
     "text": [
      "Processing tiles:   8%|▊         | 23/276 [01:52<21:46,  5.16s/it]"
     ]
    },
    {
     "name": "stdout",
     "output_type": "stream",
     "text": [
      "Output range: [-2.834, 17.027]\n",
      "Class 1 prob range: [0.000, 0.961]\n",
      "Positive pixels in batch: 804137 / 819200\n",
      "Saved debug image with 3 polygons\n"
     ]
    },
    {
     "name": "stderr",
     "output_type": "stream",
     "text": [
      "Processing tiles:   9%|▊         | 24/276 [01:57<21:58,  5.23s/it]"
     ]
    },
    {
     "name": "stdout",
     "output_type": "stream",
     "text": [
      "Output range: [-2.737, 17.028]\n",
      "Class 1 prob range: [0.000, 0.949]\n",
      "Positive pixels in batch: 806492 / 819200\n",
      "Saved debug image with 2 polygons\n"
     ]
    },
    {
     "name": "stderr",
     "output_type": "stream",
     "text": [
      "Processing tiles:   9%|▉         | 25/276 [02:04<23:37,  5.65s/it]"
     ]
    },
    {
     "name": "stdout",
     "output_type": "stream",
     "text": [
      "Output range: [-2.943, 14.810]\n",
      "Class 1 prob range: [0.000, 0.961]\n",
      "Positive pixels in batch: 761473 / 819200\n"
     ]
    },
    {
     "name": "stderr",
     "output_type": "stream",
     "text": [
      "Processing tiles:   9%|▉         | 26/276 [02:09<23:24,  5.62s/it]"
     ]
    },
    {
     "name": "stdout",
     "output_type": "stream",
     "text": [
      "Output range: [-2.785, 14.825]\n",
      "Class 1 prob range: [0.000, 0.950]\n",
      "Positive pixels in batch: 760284 / 819200\n",
      "Saved debug image with 3 polygons\n",
      "Output range: [-2.731, 7.151]\n",
      "Class 1 prob range: [0.001, 0.957]\n",
      "Positive pixels in batch: 810865 / 819200\n",
      "Saved debug image with 1 polygons\n"
     ]
    },
    {
     "name": "stderr",
     "output_type": "stream",
     "text": [
      "Processing tiles:  10%|█         | 28/276 [02:20<22:47,  5.51s/it]"
     ]
    },
    {
     "name": "stdout",
     "output_type": "stream",
     "text": [
      "Output range: [-2.887, 1.600]\n",
      "Class 1 prob range: [0.230, 0.958]\n",
      "Positive pixels in batch: 815852 / 819200\n",
      "Saved debug image with 1 polygons\n"
     ]
    },
    {
     "name": "stderr",
     "output_type": "stream",
     "text": [
      "Processing tiles:  11%|█         | 29/276 [02:25<21:37,  5.25s/it]"
     ]
    },
    {
     "name": "stdout",
     "output_type": "stream",
     "text": [
      "Output range: [-2.551, 1.236]\n",
      "Class 1 prob range: [0.283, 0.943]\n",
      "Positive pixels in batch: 819160 / 819200\n"
     ]
    },
    {
     "name": "stderr",
     "output_type": "stream",
     "text": [
      "Processing tiles:  11%|█         | 30/276 [02:29<20:49,  5.08s/it]"
     ]
    },
    {
     "name": "stdout",
     "output_type": "stream",
     "text": [
      "Output range: [-2.661, 18.094]\n",
      "Class 1 prob range: [0.000, 0.953]\n",
      "Positive pixels in batch: 807977 / 819200\n",
      "Saved debug image with 1 polygons\n"
     ]
    },
    {
     "name": "stderr",
     "output_type": "stream",
     "text": [
      "Processing tiles:  11%|█         | 31/276 [02:35<20:52,  5.11s/it]"
     ]
    },
    {
     "name": "stdout",
     "output_type": "stream",
     "text": [
      "Output range: [-2.754, 18.211]\n",
      "Class 1 prob range: [0.000, 0.956]\n",
      "Positive pixels in batch: 808402 / 819200\n",
      "Saved debug image with 2 polygons\n"
     ]
    },
    {
     "name": "stderr",
     "output_type": "stream",
     "text": [
      "Processing tiles:  12%|█▏        | 32/276 [02:40<20:36,  5.07s/it]"
     ]
    },
    {
     "name": "stdout",
     "output_type": "stream",
     "text": [
      "Output range: [-2.733, 0.616]\n",
      "Class 1 prob range: [0.429, 0.955]\n",
      "Positive pixels in batch: 819200 / 819200\n"
     ]
    },
    {
     "name": "stderr",
     "output_type": "stream",
     "text": [
      "Processing tiles:  12%|█▏        | 33/276 [02:45<20:23,  5.04s/it]"
     ]
    },
    {
     "name": "stdout",
     "output_type": "stream",
     "text": [
      "Output range: [-2.983, 1.413]\n",
      "Class 1 prob range: [0.222, 0.960]\n",
      "Positive pixels in batch: 819074 / 819200\n"
     ]
    },
    {
     "name": "stderr",
     "output_type": "stream",
     "text": [
      "Processing tiles:  12%|█▏        | 34/276 [02:49<20:08,  4.99s/it]"
     ]
    },
    {
     "name": "stdout",
     "output_type": "stream",
     "text": [
      "Output range: [-2.834, 14.316]\n",
      "Class 1 prob range: [0.000, 0.957]\n",
      "Positive pixels in batch: 815797 / 819200\n"
     ]
    },
    {
     "name": "stderr",
     "output_type": "stream",
     "text": [
      "Processing tiles:  13%|█▎        | 35/276 [02:54<19:57,  4.97s/it]"
     ]
    },
    {
     "name": "stdout",
     "output_type": "stream",
     "text": [
      "Output range: [-2.834, 14.316]\n",
      "Class 1 prob range: [0.000, 0.959]\n",
      "Positive pixels in batch: 815797 / 819200\n",
      "Saved debug image with 1 polygons\n"
     ]
    },
    {
     "name": "stderr",
     "output_type": "stream",
     "text": [
      "Processing tiles:  13%|█▎        | 36/276 [02:59<19:41,  4.92s/it]"
     ]
    },
    {
     "name": "stdout",
     "output_type": "stream",
     "text": [
      "Output range: [-2.694, 15.142]\n",
      "Class 1 prob range: [0.000, 0.951]\n",
      "Positive pixels in batch: 809033 / 819200\n",
      "Saved debug image with 2 polygons\n"
     ]
    },
    {
     "name": "stderr",
     "output_type": "stream",
     "text": [
      "Processing tiles:  13%|█▎        | 37/276 [03:05<20:19,  5.10s/it]"
     ]
    },
    {
     "name": "stdout",
     "output_type": "stream",
     "text": [
      "Output range: [-2.791, 14.810]\n",
      "Class 1 prob range: [0.000, 0.960]\n",
      "Positive pixels in batch: 759512 / 819200\n",
      "Saved debug image with 3 polygons\n"
     ]
    },
    {
     "name": "stderr",
     "output_type": "stream",
     "text": [
      "Processing tiles:  14%|█▍        | 38/276 [03:10<20:04,  5.06s/it]"
     ]
    },
    {
     "name": "stdout",
     "output_type": "stream",
     "text": [
      "Output range: [-2.785, 14.825]\n",
      "Class 1 prob range: [0.000, 0.951]\n",
      "Positive pixels in batch: 773465 / 819200\n",
      "Saved debug image with 1 polygons\n",
      "Output range: [-2.790, 7.148]\n",
      "Class 1 prob range: [0.001, 0.958]\n",
      "Positive pixels in batch: 810843 / 819200\n",
      "Saved debug image with 1 polygons\n"
     ]
    },
    {
     "name": "stderr",
     "output_type": "stream",
     "text": [
      "Processing tiles:  14%|█▍        | 39/276 [03:15<20:34,  5.21s/it]"
     ]
    },
    {
     "name": "stdout",
     "output_type": "stream",
     "text": [
      "Output range: [-2.919, 15.822]\n",
      "Class 1 prob range: [0.000, 0.964]\n",
      "Positive pixels in batch: 794512 / 819200\n",
      "Saved debug image with 2 polygons\n"
     ]
    },
    {
     "name": "stderr",
     "output_type": "stream",
     "text": [
      "Processing tiles:  15%|█▍        | 41/276 [03:26<20:33,  5.25s/it]"
     ]
    },
    {
     "name": "stdout",
     "output_type": "stream",
     "text": [
      "Output range: [-2.714, 15.824]\n",
      "Class 1 prob range: [0.000, 0.956]\n",
      "Positive pixels in batch: 794845 / 819200\n",
      "Saved debug image with 3 polygons\n"
     ]
    },
    {
     "name": "stderr",
     "output_type": "stream",
     "text": [
      "Processing tiles:  15%|█▌        | 42/276 [03:31<20:03,  5.14s/it]"
     ]
    },
    {
     "name": "stdout",
     "output_type": "stream",
     "text": [
      "Output range: [-2.735, 21.111]\n",
      "Class 1 prob range: [0.000, 0.948]\n",
      "Positive pixels in batch: 780660 / 819200\n",
      "Saved debug image with 4 polygons\n"
     ]
    },
    {
     "name": "stderr",
     "output_type": "stream",
     "text": [
      "Processing tiles:  16%|█▌        | 43/276 [03:36<19:46,  5.09s/it]"
     ]
    },
    {
     "name": "stdout",
     "output_type": "stream",
     "text": [
      "Output range: [-2.673, 18.251]\n",
      "Class 1 prob range: [0.000, 0.952]\n",
      "Positive pixels in batch: 779678 / 819200\n",
      "Saved debug image with 7 polygons\n"
     ]
    },
    {
     "name": "stderr",
     "output_type": "stream",
     "text": [
      "Processing tiles:  16%|█▌        | 44/276 [03:41<19:23,  5.01s/it]"
     ]
    },
    {
     "name": "stdout",
     "output_type": "stream",
     "text": [
      "Output range: [-2.733, 18.280]\n",
      "Class 1 prob range: [0.000, 0.953]\n",
      "Positive pixels in batch: 800662 / 819200\n",
      "Saved debug image with 4 polygons\n"
     ]
    },
    {
     "name": "stderr",
     "output_type": "stream",
     "text": [
      "Processing tiles:  16%|█▋        | 45/276 [03:45<18:44,  4.87s/it]"
     ]
    },
    {
     "name": "stdout",
     "output_type": "stream",
     "text": [
      "Output range: [-2.688, 18.280]\n",
      "Class 1 prob range: [0.000, 0.952]\n",
      "Positive pixels in batch: 814576 / 819200\n",
      "Saved debug image with 2 polygons\n"
     ]
    },
    {
     "name": "stderr",
     "output_type": "stream",
     "text": [
      "Processing tiles:  17%|█▋        | 46/276 [03:50<18:10,  4.74s/it]"
     ]
    },
    {
     "name": "stdout",
     "output_type": "stream",
     "text": [
      "Output range: [-2.733, 0.607]\n",
      "Class 1 prob range: [0.423, 0.957]\n",
      "Positive pixels in batch: 819200 / 819200\n"
     ]
    },
    {
     "name": "stderr",
     "output_type": "stream",
     "text": [
      "Processing tiles:  17%|█▋        | 47/276 [03:54<17:53,  4.69s/it]"
     ]
    },
    {
     "name": "stdout",
     "output_type": "stream",
     "text": [
      "Output range: [-2.723, 0.579]\n",
      "Class 1 prob range: [0.430, 0.957]\n",
      "Positive pixels in batch: 819200 / 819200\n"
     ]
    },
    {
     "name": "stderr",
     "output_type": "stream",
     "text": [
      "Processing tiles:  17%|█▋        | 48/276 [03:59<18:31,  4.88s/it]"
     ]
    },
    {
     "name": "stdout",
     "output_type": "stream",
     "text": [
      "Output range: [-2.666, 11.228]\n",
      "Class 1 prob range: [0.000, 0.951]\n",
      "Positive pixels in batch: 814775 / 819200\n"
     ]
    },
    {
     "name": "stderr",
     "output_type": "stream",
     "text": [
      "Processing tiles:  18%|█▊        | 49/276 [04:04<18:41,  4.94s/it]"
     ]
    },
    {
     "name": "stdout",
     "output_type": "stream",
     "text": [
      "Output range: [-2.829, 12.020]\n",
      "Class 1 prob range: [0.000, 0.960]\n",
      "Positive pixels in batch: 687679 / 819200\n",
      "Saved debug image with 2 polygons\n"
     ]
    },
    {
     "name": "stderr",
     "output_type": "stream",
     "text": [
      "Processing tiles:  18%|█▊        | 50/276 [04:10<18:45,  4.98s/it]"
     ]
    },
    {
     "name": "stdout",
     "output_type": "stream",
     "text": [
      "Output range: [-2.714, 8.838]\n",
      "Class 1 prob range: [0.000, 0.951]\n",
      "Positive pixels in batch: 796933 / 819200\n",
      "Saved debug image with 3 polygons\n"
     ]
    },
    {
     "name": "stderr",
     "output_type": "stream",
     "text": [
      "Processing tiles:  18%|█▊        | 51/276 [04:15<18:40,  4.98s/it]"
     ]
    },
    {
     "name": "stdout",
     "output_type": "stream",
     "text": [
      "Output range: [-2.872, 0.901]\n",
      "Class 1 prob range: [0.349, 0.964]\n",
      "Positive pixels in batch: 819200 / 819200\n"
     ]
    },
    {
     "name": "stderr",
     "output_type": "stream",
     "text": [
      "Processing tiles:  19%|█▉        | 52/276 [04:20<19:02,  5.10s/it]"
     ]
    },
    {
     "name": "stdout",
     "output_type": "stream",
     "text": [
      "Output range: [-2.919, 15.785]\n",
      "Class 1 prob range: [0.000, 0.964]\n",
      "Positive pixels in batch: 790880 / 819200\n",
      "Saved debug image with 2 polygons\n"
     ]
    },
    {
     "name": "stderr",
     "output_type": "stream",
     "text": [
      "Processing tiles:  19%|█▉        | 53/276 [04:25<19:14,  5.18s/it]"
     ]
    },
    {
     "name": "stdout",
     "output_type": "stream",
     "text": [
      "Output range: [-2.714, 15.786]\n",
      "Class 1 prob range: [0.000, 0.956]\n",
      "Positive pixels in batch: 784590 / 819200\n",
      "Saved debug image with 4 polygons\n"
     ]
    },
    {
     "name": "stderr",
     "output_type": "stream",
     "text": [
      "Processing tiles:  20%|█▉        | 54/276 [04:30<18:58,  5.13s/it]"
     ]
    },
    {
     "name": "stdout",
     "output_type": "stream",
     "text": [
      "Output range: [-2.739, 21.111]\n",
      "Class 1 prob range: [0.000, 0.945]\n",
      "Positive pixels in batch: 777596 / 819200\n",
      "Saved debug image with 5 polygons\n"
     ]
    },
    {
     "name": "stderr",
     "output_type": "stream",
     "text": [
      "Processing tiles:  20%|█▉        | 55/276 [04:35<18:14,  4.95s/it]"
     ]
    },
    {
     "name": "stdout",
     "output_type": "stream",
     "text": [
      "Output range: [-2.667, 17.282]\n",
      "Class 1 prob range: [0.000, 0.947]\n",
      "Positive pixels in batch: 761341 / 819200\n",
      "Saved debug image with 9 polygons\n"
     ]
    },
    {
     "name": "stderr",
     "output_type": "stream",
     "text": [
      "Processing tiles:  20%|██        | 56/276 [04:40<18:14,  4.98s/it]"
     ]
    },
    {
     "name": "stdout",
     "output_type": "stream",
     "text": [
      "Output range: [-2.624, 18.280]\n",
      "Class 1 prob range: [0.000, 0.944]\n",
      "Positive pixels in batch: 763821 / 819200\n",
      "Saved debug image with 9 polygons\n"
     ]
    },
    {
     "name": "stderr",
     "output_type": "stream",
     "text": [
      "Processing tiles:  21%|██        | 57/276 [04:44<17:45,  4.87s/it]"
     ]
    },
    {
     "name": "stdout",
     "output_type": "stream",
     "text": [
      "Output range: [-2.614, 18.280]\n",
      "Class 1 prob range: [0.000, 0.946]\n",
      "Positive pixels in batch: 785757 / 819200\n",
      "Saved debug image with 6 polygons\n"
     ]
    },
    {
     "name": "stderr",
     "output_type": "stream",
     "text": [
      "Processing tiles:  21%|██        | 58/276 [04:49<17:25,  4.80s/it]"
     ]
    },
    {
     "name": "stdout",
     "output_type": "stream",
     "text": [
      "Output range: [-2.709, 10.030]\n",
      "Class 1 prob range: [0.000, 0.953]\n",
      "Positive pixels in batch: 815739 / 819200\n",
      "Saved debug image with 2 polygons\n"
     ]
    },
    {
     "name": "stderr",
     "output_type": "stream",
     "text": [
      "Processing tiles:  21%|██▏       | 59/276 [04:54<17:44,  4.90s/it]"
     ]
    },
    {
     "name": "stdout",
     "output_type": "stream",
     "text": [
      "Output range: [-2.779, 1.457]\n",
      "Class 1 prob range: [0.217, 0.962]\n",
      "Positive pixels in batch: 818928 / 819200\n"
     ]
    },
    {
     "name": "stderr",
     "output_type": "stream",
     "text": [
      "Processing tiles:  22%|██▏       | 60/276 [04:59<17:57,  4.99s/it]"
     ]
    },
    {
     "name": "stdout",
     "output_type": "stream",
     "text": [
      "Output range: [-2.820, 1.809]\n",
      "Class 1 prob range: [0.127, 0.962]\n",
      "Positive pixels in batch: 818404 / 819200\n"
     ]
    },
    {
     "name": "stderr",
     "output_type": "stream",
     "text": [
      "Processing tiles:  22%|██▏       | 61/276 [05:05<18:01,  5.03s/it]"
     ]
    },
    {
     "name": "stdout",
     "output_type": "stream",
     "text": [
      "Output range: [-2.829, 12.020]\n",
      "Class 1 prob range: [0.000, 0.960]\n",
      "Positive pixels in batch: 696759 / 819200\n",
      "Saved debug image with 2 polygons\n"
     ]
    },
    {
     "name": "stderr",
     "output_type": "stream",
     "text": [
      "Processing tiles:  22%|██▏       | 62/276 [05:10<17:55,  5.02s/it]"
     ]
    },
    {
     "name": "stdout",
     "output_type": "stream",
     "text": [
      "Output range: [-2.743, 6.019]\n",
      "Class 1 prob range: [0.002, 0.958]\n",
      "Positive pixels in batch: 813384 / 819200\n",
      "Saved debug image with 2 polygons\n"
     ]
    },
    {
     "name": "stderr",
     "output_type": "stream",
     "text": [
      "Processing tiles:  23%|██▎       | 63/276 [05:15<17:59,  5.07s/it]"
     ]
    },
    {
     "name": "stdout",
     "output_type": "stream",
     "text": [
      "Output range: [-2.872, 0.726]\n",
      "Class 1 prob range: [0.362, 0.964]\n",
      "Positive pixels in batch: 819200 / 819200\n"
     ]
    },
    {
     "name": "stderr",
     "output_type": "stream",
     "text": [
      "Processing tiles:  23%|██▎       | 64/276 [05:20<18:21,  5.20s/it]"
     ]
    },
    {
     "name": "stdout",
     "output_type": "stream",
     "text": [
      "Output range: [-2.872, 11.462]\n",
      "Class 1 prob range: [0.000, 0.964]\n",
      "Positive pixels in batch: 812672 / 819200\n",
      "Saved debug image with 1 polygons\n"
     ]
    },
    {
     "name": "stderr",
     "output_type": "stream",
     "text": [
      "Processing tiles:  24%|██▎       | 65/276 [05:25<18:17,  5.20s/it]"
     ]
    },
    {
     "name": "stdout",
     "output_type": "stream",
     "text": [
      "Output range: [-2.662, 17.244]\n",
      "Class 1 prob range: [0.000, 0.953]\n",
      "Positive pixels in batch: 804665 / 819200\n",
      "Saved debug image with 3 polygons\n"
     ]
    },
    {
     "name": "stderr",
     "output_type": "stream",
     "text": [
      "Processing tiles:  24%|██▍       | 66/276 [05:31<18:07,  5.18s/it]"
     ]
    },
    {
     "name": "stdout",
     "output_type": "stream",
     "text": [
      "Output range: [-2.719, 19.269]\n",
      "Class 1 prob range: [0.000, 0.952]\n",
      "Positive pixels in batch: 772649 / 819200\n",
      "Saved debug image with 5 polygons\n"
     ]
    },
    {
     "name": "stderr",
     "output_type": "stream",
     "text": [
      "Processing tiles:  24%|██▍       | 67/276 [05:36<17:59,  5.17s/it]"
     ]
    },
    {
     "name": "stdout",
     "output_type": "stream",
     "text": [
      "Output range: [-2.667, 16.398]\n",
      "Class 1 prob range: [0.000, 0.946]\n",
      "Positive pixels in batch: 770282 / 819200\n",
      "Saved debug image with 9 polygons\n"
     ]
    },
    {
     "name": "stderr",
     "output_type": "stream",
     "text": [
      "Processing tiles:  25%|██▍       | 68/276 [05:41<18:15,  5.27s/it]"
     ]
    },
    {
     "name": "stdout",
     "output_type": "stream",
     "text": [
      "Output range: [-2.665, 17.280]\n",
      "Class 1 prob range: [0.000, 0.942]\n",
      "Positive pixels in batch: 758743 / 819200\n",
      "Saved debug image with 8 polygons\n"
     ]
    },
    {
     "name": "stderr",
     "output_type": "stream",
     "text": [
      "Processing tiles:  25%|██▌       | 69/276 [05:46<17:28,  5.06s/it]"
     ]
    },
    {
     "name": "stdout",
     "output_type": "stream",
     "text": [
      "Output range: [-2.665, 18.866]\n",
      "Class 1 prob range: [0.000, 0.946]\n",
      "Positive pixels in batch: 762576 / 819200\n",
      "Saved debug image with 10 polygons\n"
     ]
    },
    {
     "name": "stderr",
     "output_type": "stream",
     "text": [
      "Processing tiles:  25%|██▌       | 70/276 [05:51<17:17,  5.03s/it]"
     ]
    },
    {
     "name": "stdout",
     "output_type": "stream",
     "text": [
      "Output range: [-2.709, 14.199]\n",
      "Class 1 prob range: [0.000, 0.953]\n",
      "Positive pixels in batch: 806920 / 819200\n",
      "Saved debug image with 5 polygons\n"
     ]
    },
    {
     "name": "stderr",
     "output_type": "stream",
     "text": [
      "Processing tiles:  26%|██▌       | 71/276 [05:55<16:37,  4.87s/it]"
     ]
    },
    {
     "name": "stdout",
     "output_type": "stream",
     "text": [
      "Output range: [-2.779, 1.525]\n",
      "Class 1 prob range: [0.206, 0.962]\n",
      "Positive pixels in batch: 818599 / 819200\n"
     ]
    },
    {
     "name": "stderr",
     "output_type": "stream",
     "text": [
      "Processing tiles:  26%|██▌       | 72/276 [06:00<15:59,  4.70s/it]"
     ]
    },
    {
     "name": "stdout",
     "output_type": "stream",
     "text": [
      "Output range: [-2.820, 0.652]\n",
      "Class 1 prob range: [0.413, 0.962]\n",
      "Positive pixels in batch: 819200 / 819200\n"
     ]
    },
    {
     "name": "stderr",
     "output_type": "stream",
     "text": [
      "Processing tiles:  26%|██▋       | 73/276 [06:05<16:29,  4.87s/it]"
     ]
    },
    {
     "name": "stdout",
     "output_type": "stream",
     "text": [
      "Output range: [-2.962, 10.566]\n",
      "Class 1 prob range: [0.000, 0.967]\n",
      "Positive pixels in batch: 791627 / 819200\n",
      "Saved debug image with 5 polygons\n"
     ]
    },
    {
     "name": "stderr",
     "output_type": "stream",
     "text": [
      "Processing tiles:  27%|██▋       | 74/276 [06:10<17:05,  5.08s/it]"
     ]
    },
    {
     "name": "stdout",
     "output_type": "stream",
     "text": [
      "Output range: [-2.743, 14.897]\n",
      "Class 1 prob range: [0.000, 0.958]\n",
      "Positive pixels in batch: 800544 / 819200\n",
      "Saved debug image with 5 polygons\n"
     ]
    },
    {
     "name": "stderr",
     "output_type": "stream",
     "text": [
      "Processing tiles:  27%|██▋       | 75/276 [06:16<17:05,  5.10s/it]"
     ]
    },
    {
     "name": "stdout",
     "output_type": "stream",
     "text": [
      "Output range: [-3.056, 14.786]\n",
      "Class 1 prob range: [0.000, 0.970]\n",
      "Positive pixels in batch: 806780 / 819200\n",
      "Saved debug image with 5 polygons\n"
     ]
    },
    {
     "name": "stderr",
     "output_type": "stream",
     "text": [
      "Processing tiles:  28%|██▊       | 76/276 [06:20<16:38,  4.99s/it]"
     ]
    },
    {
     "name": "stdout",
     "output_type": "stream",
     "text": [
      "Output range: [-2.936, 14.786]\n",
      "Class 1 prob range: [0.000, 0.965]\n",
      "Positive pixels in batch: 802948 / 819200\n",
      "Saved debug image with 2 polygons\n"
     ]
    },
    {
     "name": "stderr",
     "output_type": "stream",
     "text": [
      "Processing tiles:  28%|██▊       | 77/276 [06:25<16:39,  5.02s/it]"
     ]
    },
    {
     "name": "stdout",
     "output_type": "stream",
     "text": [
      "Output range: [-2.662, 21.687]\n",
      "Class 1 prob range: [0.000, 0.949]\n",
      "Positive pixels in batch: 776800 / 819200\n",
      "Saved debug image with 7 polygons\n"
     ]
    },
    {
     "name": "stderr",
     "output_type": "stream",
     "text": [
      "Processing tiles:  28%|██▊       | 78/276 [06:30<16:03,  4.87s/it]"
     ]
    },
    {
     "name": "stdout",
     "output_type": "stream",
     "text": [
      "Output range: [-2.719, 20.469]\n",
      "Class 1 prob range: [0.000, 0.952]\n",
      "Positive pixels in batch: 737885 / 819200\n",
      "Saved debug image with 8 polygons\n"
     ]
    },
    {
     "name": "stderr",
     "output_type": "stream",
     "text": [
      "Processing tiles:  29%|██▊       | 79/276 [06:34<15:26,  4.70s/it]"
     ]
    },
    {
     "name": "stdout",
     "output_type": "stream",
     "text": [
      "Output range: [-2.639, 19.785]\n",
      "Class 1 prob range: [0.000, 0.946]\n",
      "Positive pixels in batch: 770253 / 819200\n",
      "Saved debug image with 9 polygons\n"
     ]
    },
    {
     "name": "stderr",
     "output_type": "stream",
     "text": [
      "Processing tiles:  29%|██▉       | 80/276 [06:39<15:21,  4.70s/it]"
     ]
    },
    {
     "name": "stdout",
     "output_type": "stream",
     "text": [
      "Output range: [-2.665, 17.555]\n",
      "Class 1 prob range: [0.000, 0.941]\n",
      "Positive pixels in batch: 772093 / 819200\n",
      "Saved debug image with 8 polygons\n"
     ]
    },
    {
     "name": "stderr",
     "output_type": "stream",
     "text": [
      "Processing tiles:  29%|██▉       | 81/276 [06:44<15:16,  4.70s/it]"
     ]
    },
    {
     "name": "stdout",
     "output_type": "stream",
     "text": [
      "Output range: [-2.665, 18.872]\n",
      "Class 1 prob range: [0.000, 0.944]\n",
      "Positive pixels in batch: 777088 / 819200\n",
      "Saved debug image with 7 polygons\n"
     ]
    },
    {
     "name": "stderr",
     "output_type": "stream",
     "text": [
      "Processing tiles:  30%|██▉       | 82/276 [06:48<14:51,  4.59s/it]"
     ]
    },
    {
     "name": "stdout",
     "output_type": "stream",
     "text": [
      "Output range: [-2.678, 15.457]\n",
      "Class 1 prob range: [0.000, 0.953]\n",
      "Positive pixels in batch: 789990 / 819200\n",
      "Saved debug image with 7 polygons\n"
     ]
    },
    {
     "name": "stderr",
     "output_type": "stream",
     "text": [
      "Processing tiles:  30%|███       | 83/276 [06:52<14:38,  4.55s/it]"
     ]
    },
    {
     "name": "stdout",
     "output_type": "stream",
     "text": [
      "Output range: [-2.670, 14.249]\n",
      "Class 1 prob range: [0.000, 0.953]\n",
      "Positive pixels in batch: 806896 / 819200\n",
      "Saved debug image with 4 polygons\n"
     ]
    },
    {
     "name": "stderr",
     "output_type": "stream",
     "text": [
      "Processing tiles:  30%|███       | 84/276 [06:57<14:27,  4.52s/it]"
     ]
    },
    {
     "name": "stdout",
     "output_type": "stream",
     "text": [
      "Output range: [-2.771, 1.588]\n",
      "Class 1 prob range: [0.190, 0.950]\n",
      "Positive pixels in batch: 818502 / 819200\n"
     ]
    },
    {
     "name": "stderr",
     "output_type": "stream",
     "text": [
      "Processing tiles:  31%|███       | 85/276 [07:02<14:48,  4.65s/it]"
     ]
    },
    {
     "name": "stdout",
     "output_type": "stream",
     "text": [
      "Output range: [-2.959, 16.641]\n",
      "Class 1 prob range: [0.000, 0.967]\n",
      "Positive pixels in batch: 772194 / 819200\n",
      "Saved debug image with 4 polygons\n"
     ]
    },
    {
     "name": "stderr",
     "output_type": "stream",
     "text": [
      "Processing tiles:  31%|███       | 86/276 [07:06<14:42,  4.65s/it]"
     ]
    },
    {
     "name": "stdout",
     "output_type": "stream",
     "text": [
      "Output range: [-2.632, 17.323]\n",
      "Class 1 prob range: [0.000, 0.953]\n",
      "Positive pixels in batch: 772181 / 819200\n",
      "Saved debug image with 9 polygons\n"
     ]
    },
    {
     "name": "stderr",
     "output_type": "stream",
     "text": [
      "Processing tiles:  32%|███▏      | 87/276 [07:11<14:52,  4.72s/it]"
     ]
    },
    {
     "name": "stdout",
     "output_type": "stream",
     "text": [
      "Output range: [-3.056, 16.978]\n",
      "Class 1 prob range: [0.000, 0.970]\n",
      "Positive pixels in batch: 772178 / 819200\n",
      "Saved debug image with 10 polygons\n"
     ]
    },
    {
     "name": "stderr",
     "output_type": "stream",
     "text": [
      "Processing tiles:  32%|███▏      | 88/276 [07:17<15:12,  4.85s/it]"
     ]
    },
    {
     "name": "stdout",
     "output_type": "stream",
     "text": [
      "Output range: [-2.936, 16.978]\n",
      "Class 1 prob range: [0.000, 0.965]\n",
      "Positive pixels in batch: 774944 / 819200\n",
      "Saved debug image with 7 polygons\n"
     ]
    },
    {
     "name": "stderr",
     "output_type": "stream",
     "text": [
      "Processing tiles:  32%|███▏      | 89/276 [07:22<15:28,  4.97s/it]"
     ]
    },
    {
     "name": "stdout",
     "output_type": "stream",
     "text": [
      "Output range: [-2.753, 21.718]\n",
      "Class 1 prob range: [0.000, 0.953]\n",
      "Positive pixels in batch: 750976 / 819200\n",
      "Saved debug image with 11 polygons\n"
     ]
    },
    {
     "name": "stderr",
     "output_type": "stream",
     "text": [
      "Processing tiles:  33%|███▎      | 90/276 [07:27<15:21,  4.95s/it]"
     ]
    },
    {
     "name": "stdout",
     "output_type": "stream",
     "text": [
      "Output range: [-2.602, 20.105]\n",
      "Class 1 prob range: [0.000, 0.948]\n",
      "Positive pixels in batch: 722235 / 819200\n",
      "Saved debug image with 11 polygons\n"
     ]
    },
    {
     "name": "stderr",
     "output_type": "stream",
     "text": [
      "Processing tiles:  33%|███▎      | 91/276 [07:32<15:11,  4.93s/it]"
     ]
    },
    {
     "name": "stdout",
     "output_type": "stream",
     "text": [
      "Output range: [-2.628, 18.082]\n",
      "Class 1 prob range: [0.000, 0.943]\n",
      "Positive pixels in batch: 758028 / 819200\n",
      "Saved debug image with 11 polygons\n"
     ]
    },
    {
     "name": "stderr",
     "output_type": "stream",
     "text": [
      "Processing tiles:  33%|███▎      | 92/276 [07:36<15:01,  4.90s/it]"
     ]
    },
    {
     "name": "stdout",
     "output_type": "stream",
     "text": [
      "Output range: [-2.629, 17.555]\n",
      "Class 1 prob range: [0.000, 0.941]\n",
      "Positive pixels in batch: 773446 / 819200\n",
      "Saved debug image with 8 polygons\n"
     ]
    },
    {
     "name": "stderr",
     "output_type": "stream",
     "text": [
      "Processing tiles:  34%|███▎      | 93/276 [07:41<14:49,  4.86s/it]"
     ]
    },
    {
     "name": "stdout",
     "output_type": "stream",
     "text": [
      "Output range: [-2.653, 16.124]\n",
      "Class 1 prob range: [0.000, 0.944]\n",
      "Positive pixels in batch: 777631 / 819200\n",
      "Saved debug image with 6 polygons\n"
     ]
    },
    {
     "name": "stderr",
     "output_type": "stream",
     "text": [
      "Processing tiles:  34%|███▍      | 94/276 [07:46<14:49,  4.89s/it]"
     ]
    },
    {
     "name": "stdout",
     "output_type": "stream",
     "text": [
      "Output range: [-2.678, 15.280]\n",
      "Class 1 prob range: [0.000, 0.949]\n",
      "Positive pixels in batch: 777062 / 819200\n",
      "Saved debug image with 9 polygons\n"
     ]
    },
    {
     "name": "stderr",
     "output_type": "stream",
     "text": [
      "Processing tiles:  34%|███▍      | 95/276 [07:51<14:41,  4.87s/it]"
     ]
    },
    {
     "name": "stdout",
     "output_type": "stream",
     "text": [
      "Output range: [-2.663, 14.249]\n",
      "Class 1 prob range: [0.000, 0.953]\n",
      "Positive pixels in batch: 796364 / 819200\n",
      "Saved debug image with 6 polygons\n"
     ]
    },
    {
     "name": "stderr",
     "output_type": "stream",
     "text": [
      "Processing tiles:  35%|███▍      | 96/276 [07:56<14:32,  4.85s/it]"
     ]
    },
    {
     "name": "stdout",
     "output_type": "stream",
     "text": [
      "Output range: [-2.691, 6.988]\n",
      "Class 1 prob range: [0.001, 0.953]\n",
      "Positive pixels in batch: 812998 / 819200\n",
      "Saved debug image with 4 polygons\n"
     ]
    },
    {
     "name": "stderr",
     "output_type": "stream",
     "text": [
      "Processing tiles:  35%|███▌      | 97/276 [08:01<14:27,  4.85s/it]"
     ]
    },
    {
     "name": "stdout",
     "output_type": "stream",
     "text": [
      "Output range: [-2.978, 16.641]\n",
      "Class 1 prob range: [0.000, 0.961]\n",
      "Positive pixels in batch: 734251 / 819200\n",
      "Saved debug image with 1 polygons\n"
     ]
    },
    {
     "name": "stderr",
     "output_type": "stream",
     "text": [
      "Processing tiles:  36%|███▌      | 98/276 [08:06<14:51,  5.01s/it]"
     ]
    },
    {
     "name": "stdout",
     "output_type": "stream",
     "text": [
      "Output range: [-2.632, 17.323]\n",
      "Class 1 prob range: [0.000, 0.949]\n",
      "Positive pixels in batch: 759529 / 819200\n",
      "Saved debug image with 9 polygons\n"
     ]
    },
    {
     "name": "stderr",
     "output_type": "stream",
     "text": [
      "Processing tiles:  36%|███▌      | 99/276 [08:10<14:20,  4.86s/it]"
     ]
    },
    {
     "name": "stdout",
     "output_type": "stream",
     "text": [
      "Output range: [-2.645, 16.943]\n",
      "Class 1 prob range: [0.000, 0.954]\n",
      "Positive pixels in batch: 771098 / 819200\n",
      "Saved debug image with 9 polygons\n"
     ]
    },
    {
     "name": "stderr",
     "output_type": "stream",
     "text": [
      "Processing tiles:  36%|███▌      | 100/276 [08:15<14:02,  4.79s/it]"
     ]
    },
    {
     "name": "stdout",
     "output_type": "stream",
     "text": [
      "Output range: [-2.656, 20.070]\n",
      "Class 1 prob range: [0.000, 0.954]\n",
      "Positive pixels in batch: 761032 / 819200\n",
      "Saved debug image with 9 polygons\n"
     ]
    },
    {
     "name": "stderr",
     "output_type": "stream",
     "text": [
      "Processing tiles:  37%|███▋      | 101/276 [08:19<13:24,  4.60s/it]"
     ]
    },
    {
     "name": "stdout",
     "output_type": "stream",
     "text": [
      "Output range: [-2.753, 20.070]\n",
      "Class 1 prob range: [0.000, 0.952]\n",
      "Positive pixels in batch: 761465 / 819200\n",
      "Saved debug image with 7 polygons\n"
     ]
    },
    {
     "name": "stderr",
     "output_type": "stream",
     "text": [
      "Processing tiles:  37%|███▋      | 102/276 [08:24<13:31,  4.66s/it]"
     ]
    },
    {
     "name": "stdout",
     "output_type": "stream",
     "text": [
      "Output range: [-2.604, 19.365]\n",
      "Class 1 prob range: [0.000, 0.947]\n",
      "Positive pixels in batch: 741771 / 819200\n",
      "Saved debug image with 11 polygons\n"
     ]
    },
    {
     "name": "stderr",
     "output_type": "stream",
     "text": [
      "Processing tiles:  37%|███▋      | 103/276 [08:28<13:04,  4.53s/it]"
     ]
    },
    {
     "name": "stdout",
     "output_type": "stream",
     "text": [
      "Output range: [-2.632, 18.436]\n",
      "Class 1 prob range: [0.000, 0.944]\n",
      "Positive pixels in batch: 748787 / 819200\n",
      "Saved debug image with 10 polygons\n"
     ]
    },
    {
     "name": "stderr",
     "output_type": "stream",
     "text": [
      "Processing tiles:  38%|███▊      | 104/276 [08:33<13:35,  4.74s/it]"
     ]
    },
    {
     "name": "stdout",
     "output_type": "stream",
     "text": [
      "Output range: [-2.585, 18.436]\n",
      "Class 1 prob range: [0.000, 0.945]\n",
      "Positive pixels in batch: 760107 / 819200\n",
      "Saved debug image with 9 polygons\n"
     ]
    },
    {
     "name": "stderr",
     "output_type": "stream",
     "text": [
      "Processing tiles:  38%|███▊      | 105/276 [08:39<13:55,  4.88s/it]"
     ]
    },
    {
     "name": "stdout",
     "output_type": "stream",
     "text": [
      "Output range: [-2.590, 18.238]\n",
      "Class 1 prob range: [0.000, 0.946]\n",
      "Positive pixels in batch: 768265 / 819200\n",
      "Saved debug image with 8 polygons\n"
     ]
    },
    {
     "name": "stderr",
     "output_type": "stream",
     "text": [
      "Processing tiles:  38%|███▊      | 106/276 [08:44<13:52,  4.89s/it]"
     ]
    },
    {
     "name": "stdout",
     "output_type": "stream",
     "text": [
      "Output range: [-2.576, 16.599]\n",
      "Class 1 prob range: [0.000, 0.949]\n",
      "Positive pixels in batch: 776484 / 819200\n",
      "Saved debug image with 9 polygons\n"
     ]
    },
    {
     "name": "stderr",
     "output_type": "stream",
     "text": [
      "Processing tiles:  39%|███▉      | 107/276 [08:48<13:29,  4.79s/it]"
     ]
    },
    {
     "name": "stdout",
     "output_type": "stream",
     "text": [
      "Output range: [-2.598, 16.287]\n",
      "Class 1 prob range: [0.000, 0.947]\n",
      "Positive pixels in batch: 789445 / 819200\n",
      "Saved debug image with 5 polygons\n"
     ]
    },
    {
     "name": "stderr",
     "output_type": "stream",
     "text": [
      "Processing tiles:  39%|███▉      | 108/276 [08:53<13:07,  4.69s/it]"
     ]
    },
    {
     "name": "stdout",
     "output_type": "stream",
     "text": [
      "Output range: [-2.714, 17.600]\n",
      "Class 1 prob range: [0.000, 0.947]\n",
      "Positive pixels in batch: 803504 / 819200\n",
      "Saved debug image with 6 polygons\n"
     ]
    },
    {
     "name": "stderr",
     "output_type": "stream",
     "text": [
      "Processing tiles:  39%|███▉      | 109/276 [08:58<13:30,  4.85s/it]"
     ]
    },
    {
     "name": "stdout",
     "output_type": "stream",
     "text": [
      "Output range: [-2.652, 15.111]\n",
      "Class 1 prob range: [0.000, 0.953]\n",
      "Positive pixels in batch: 715750 / 819200\n",
      "Saved debug image with 2 polygons\n"
     ]
    },
    {
     "name": "stderr",
     "output_type": "stream",
     "text": [
      "Processing tiles:  40%|███▉      | 110/276 [09:03<13:45,  4.97s/it]"
     ]
    },
    {
     "name": "stdout",
     "output_type": "stream",
     "text": [
      "Output range: [-2.655, 18.123]\n",
      "Class 1 prob range: [0.000, 0.950]\n",
      "Positive pixels in batch: 760554 / 819200\n",
      "Saved debug image with 10 polygons\n"
     ]
    },
    {
     "name": "stderr",
     "output_type": "stream",
     "text": [
      "Processing tiles:  40%|████      | 111/276 [09:08<13:39,  4.96s/it]"
     ]
    },
    {
     "name": "stdout",
     "output_type": "stream",
     "text": [
      "Output range: [-2.655, 18.123]\n",
      "Class 1 prob range: [0.000, 0.955]\n",
      "Positive pixels in batch: 776544 / 819200\n",
      "Saved debug image with 6 polygons\n"
     ]
    },
    {
     "name": "stderr",
     "output_type": "stream",
     "text": [
      "Processing tiles:  41%|████      | 112/276 [09:12<12:40,  4.63s/it]"
     ]
    },
    {
     "name": "stdout",
     "output_type": "stream",
     "text": [
      "Output range: [-2.656, 21.109]\n",
      "Class 1 prob range: [0.000, 0.955]\n",
      "Positive pixels in batch: 753430 / 819200\n",
      "Saved debug image with 8 polygons\n"
     ]
    },
    {
     "name": "stderr",
     "output_type": "stream",
     "text": [
      "Processing tiles:  41%|████      | 113/276 [09:16<12:13,  4.50s/it]"
     ]
    },
    {
     "name": "stdout",
     "output_type": "stream",
     "text": [
      "Output range: [-2.629, 21.812]\n",
      "Class 1 prob range: [0.000, 0.950]\n",
      "Positive pixels in batch: 751426 / 819200\n",
      "Saved debug image with 7 polygons\n"
     ]
    },
    {
     "name": "stderr",
     "output_type": "stream",
     "text": [
      "Processing tiles:  41%|████▏     | 114/276 [09:20<11:37,  4.31s/it]"
     ]
    },
    {
     "name": "stdout",
     "output_type": "stream",
     "text": [
      "Output range: [-2.722, 18.741]\n",
      "Class 1 prob range: [0.000, 0.947]\n",
      "Positive pixels in batch: 749060 / 819200\n",
      "Saved debug image with 8 polygons\n"
     ]
    },
    {
     "name": "stderr",
     "output_type": "stream",
     "text": [
      "Processing tiles:  42%|████▏     | 115/276 [09:24<11:11,  4.17s/it]"
     ]
    },
    {
     "name": "stdout",
     "output_type": "stream",
     "text": [
      "Output range: [-2.660, 18.426]\n",
      "Class 1 prob range: [0.000, 0.944]\n",
      "Positive pixels in batch: 756789 / 819200\n",
      "Saved debug image with 10 polygons\n"
     ]
    },
    {
     "name": "stderr",
     "output_type": "stream",
     "text": [
      "Processing tiles:  42%|████▏     | 116/276 [09:28<10:49,  4.06s/it]"
     ]
    },
    {
     "name": "stdout",
     "output_type": "stream",
     "text": [
      "Output range: [-2.665, 18.426]\n",
      "Class 1 prob range: [0.000, 0.945]\n",
      "Positive pixels in batch: 758031 / 819200\n",
      "Saved debug image with 9 polygons\n"
     ]
    },
    {
     "name": "stderr",
     "output_type": "stream",
     "text": [
      "Processing tiles:  42%|████▏     | 117/276 [09:32<10:39,  4.02s/it]"
     ]
    },
    {
     "name": "stdout",
     "output_type": "stream",
     "text": [
      "Output range: [-2.741, 16.599]\n",
      "Class 1 prob range: [0.000, 0.947]\n",
      "Positive pixels in batch: 785199 / 819200\n",
      "Saved debug image with 7 polygons\n"
     ]
    },
    {
     "name": "stderr",
     "output_type": "stream",
     "text": [
      "Processing tiles:  43%|████▎     | 118/276 [09:35<10:21,  3.93s/it]"
     ]
    },
    {
     "name": "stdout",
     "output_type": "stream",
     "text": [
      "Output range: [-2.591, 18.488]\n",
      "Class 1 prob range: [0.000, 0.949]\n",
      "Positive pixels in batch: 776310 / 819200\n",
      "Saved debug image with 8 polygons\n"
     ]
    },
    {
     "name": "stderr",
     "output_type": "stream",
     "text": [
      "Processing tiles:  43%|████▎     | 119/276 [09:39<10:03,  3.85s/it]"
     ]
    },
    {
     "name": "stdout",
     "output_type": "stream",
     "text": [
      "Output range: [-2.752, 16.287]\n",
      "Class 1 prob range: [0.000, 0.947]\n",
      "Positive pixels in batch: 770597 / 819200\n",
      "Saved debug image with 8 polygons\n"
     ]
    },
    {
     "name": "stderr",
     "output_type": "stream",
     "text": [
      "Processing tiles:  43%|████▎     | 120/276 [09:42<09:42,  3.73s/it]"
     ]
    },
    {
     "name": "stdout",
     "output_type": "stream",
     "text": [
      "Output range: [-2.752, 17.600]\n",
      "Class 1 prob range: [0.000, 0.947]\n",
      "Positive pixels in batch: 799575 / 819200\n",
      "Saved debug image with 6 polygons\n"
     ]
    },
    {
     "name": "stderr",
     "output_type": "stream",
     "text": [
      "Processing tiles:  44%|████▍     | 121/276 [09:46<09:39,  3.74s/it]"
     ]
    },
    {
     "name": "stdout",
     "output_type": "stream",
     "text": [
      "Output range: [-2.834, 14.943]\n",
      "Class 1 prob range: [0.000, 0.956]\n",
      "Positive pixels in batch: 748793 / 819200\n",
      "Saved debug image with 3 polygons\n"
     ]
    },
    {
     "name": "stderr",
     "output_type": "stream",
     "text": [
      "Processing tiles:  44%|████▍     | 122/276 [09:50<09:47,  3.81s/it]"
     ]
    },
    {
     "name": "stdout",
     "output_type": "stream",
     "text": [
      "Output range: [-2.754, 17.517]\n",
      "Class 1 prob range: [0.000, 0.952]\n",
      "Positive pixels in batch: 768361 / 819200\n",
      "Saved debug image with 8 polygons\n"
     ]
    },
    {
     "name": "stderr",
     "output_type": "stream",
     "text": [
      "Processing tiles:  45%|████▍     | 123/276 [09:54<09:29,  3.72s/it]"
     ]
    },
    {
     "name": "stdout",
     "output_type": "stream",
     "text": [
      "Output range: [-2.655, 21.146]\n",
      "Class 1 prob range: [0.000, 0.952]\n",
      "Positive pixels in batch: 742206 / 819200\n",
      "Saved debug image with 10 polygons\n"
     ]
    },
    {
     "name": "stderr",
     "output_type": "stream",
     "text": [
      "Processing tiles:  45%|████▍     | 124/276 [09:57<09:31,  3.76s/it]"
     ]
    },
    {
     "name": "stdout",
     "output_type": "stream",
     "text": [
      "Output range: [-2.553, 21.145]\n",
      "Class 1 prob range: [0.000, 0.944]\n",
      "Positive pixels in batch: 741963 / 819200\n",
      "Saved debug image with 10 polygons\n"
     ]
    },
    {
     "name": "stderr",
     "output_type": "stream",
     "text": [
      "Processing tiles:  45%|████▌     | 125/276 [10:01<09:32,  3.79s/it]"
     ]
    },
    {
     "name": "stdout",
     "output_type": "stream",
     "text": [
      "Output range: [-2.637, 21.812]\n",
      "Class 1 prob range: [0.000, 0.949]\n",
      "Positive pixels in batch: 728779 / 819200\n",
      "Saved debug image with 9 polygons\n"
     ]
    },
    {
     "name": "stderr",
     "output_type": "stream",
     "text": [
      "Processing tiles:  46%|████▌     | 126/276 [10:05<09:22,  3.75s/it]"
     ]
    },
    {
     "name": "stdout",
     "output_type": "stream",
     "text": [
      "Output range: [-2.722, 17.646]\n",
      "Class 1 prob range: [0.000, 0.947]\n",
      "Positive pixels in batch: 740915 / 819200\n",
      "Saved debug image with 9 polygons\n"
     ]
    },
    {
     "name": "stderr",
     "output_type": "stream",
     "text": [
      "Processing tiles:  46%|████▌     | 127/276 [10:09<09:33,  3.85s/it]"
     ]
    },
    {
     "name": "stdout",
     "output_type": "stream",
     "text": [
      "Output range: [-2.684, 14.116]\n",
      "Class 1 prob range: [0.000, 0.945]\n",
      "Positive pixels in batch: 764947 / 819200\n",
      "Saved debug image with 10 polygons\n"
     ]
    },
    {
     "name": "stderr",
     "output_type": "stream",
     "text": [
      "Processing tiles:  46%|████▋     | 128/276 [10:13<09:20,  3.79s/it]"
     ]
    },
    {
     "name": "stdout",
     "output_type": "stream",
     "text": [
      "Output range: [-2.684, 17.758]\n",
      "Class 1 prob range: [0.000, 0.948]\n",
      "Positive pixels in batch: 778999 / 819200\n",
      "Saved debug image with 7 polygons\n"
     ]
    },
    {
     "name": "stderr",
     "output_type": "stream",
     "text": [
      "Processing tiles:  47%|████▋     | 129/276 [10:16<09:13,  3.76s/it]"
     ]
    },
    {
     "name": "stdout",
     "output_type": "stream",
     "text": [
      "Output range: [-2.665, 16.956]\n",
      "Class 1 prob range: [0.000, 0.948]\n",
      "Positive pixels in batch: 783868 / 819200\n",
      "Saved debug image with 6 polygons\n"
     ]
    },
    {
     "name": "stderr",
     "output_type": "stream",
     "text": [
      "Processing tiles:  47%|████▋     | 130/276 [10:20<09:08,  3.76s/it]"
     ]
    },
    {
     "name": "stdout",
     "output_type": "stream",
     "text": [
      "Output range: [-2.591, 16.161]\n",
      "Class 1 prob range: [0.000, 0.947]\n",
      "Positive pixels in batch: 776190 / 819200\n",
      "Saved debug image with 9 polygons\n"
     ]
    },
    {
     "name": "stderr",
     "output_type": "stream",
     "text": [
      "Processing tiles:  47%|████▋     | 131/276 [10:24<08:57,  3.71s/it]"
     ]
    },
    {
     "name": "stdout",
     "output_type": "stream",
     "text": [
      "Output range: [-2.614, 16.895]\n",
      "Class 1 prob range: [0.000, 0.945]\n",
      "Positive pixels in batch: 753652 / 819200\n",
      "Saved debug image with 11 polygons\n"
     ]
    },
    {
     "name": "stderr",
     "output_type": "stream",
     "text": [
      "Processing tiles:  48%|████▊     | 132/276 [10:27<08:49,  3.68s/it]"
     ]
    },
    {
     "name": "stdout",
     "output_type": "stream",
     "text": [
      "Output range: [-2.746, 14.605]\n",
      "Class 1 prob range: [0.000, 0.945]\n",
      "Positive pixels in batch: 804357 / 819200\n",
      "Saved debug image with 5 polygons\n"
     ]
    },
    {
     "name": "stderr",
     "output_type": "stream",
     "text": [
      "Processing tiles:  48%|████▊     | 133/276 [10:31<08:50,  3.71s/it]"
     ]
    },
    {
     "name": "stdout",
     "output_type": "stream",
     "text": [
      "Output range: [-2.833, 16.506]\n",
      "Class 1 prob range: [0.000, 0.956]\n",
      "Positive pixels in batch: 764788 / 819200\n",
      "Saved debug image with 8 polygons\n"
     ]
    },
    {
     "name": "stderr",
     "output_type": "stream",
     "text": [
      "Processing tiles:  49%|████▊     | 134/276 [10:35<08:45,  3.70s/it]"
     ]
    },
    {
     "name": "stdout",
     "output_type": "stream",
     "text": [
      "Output range: [-2.754, 19.275]\n",
      "Class 1 prob range: [0.000, 0.952]\n",
      "Positive pixels in batch: 762094 / 819200\n",
      "Saved debug image with 7 polygons\n"
     ]
    },
    {
     "name": "stderr",
     "output_type": "stream",
     "text": [
      "Processing tiles:  49%|████▉     | 135/276 [10:39<08:45,  3.73s/it]"
     ]
    },
    {
     "name": "stdout",
     "output_type": "stream",
     "text": [
      "Output range: [-2.605, 21.146]\n",
      "Class 1 prob range: [0.000, 0.952]\n",
      "Positive pixels in batch: 711619 / 819200\n",
      "Saved debug image with 11 polygons\n"
     ]
    },
    {
     "name": "stderr",
     "output_type": "stream",
     "text": [
      "Processing tiles:  49%|████▉     | 136/276 [10:42<08:41,  3.72s/it]"
     ]
    },
    {
     "name": "stdout",
     "output_type": "stream",
     "text": [
      "Output range: [-2.680, 21.145]\n",
      "Class 1 prob range: [0.000, 0.952]\n",
      "Positive pixels in batch: 734760 / 819200\n",
      "Saved debug image with 9 polygons\n"
     ]
    },
    {
     "name": "stderr",
     "output_type": "stream",
     "text": [
      "Processing tiles:  50%|████▉     | 137/276 [10:46<08:38,  3.73s/it]"
     ]
    },
    {
     "name": "stdout",
     "output_type": "stream",
     "text": [
      "Output range: [-2.671, 19.257]\n",
      "Class 1 prob range: [0.000, 0.949]\n",
      "Positive pixels in batch: 722423 / 819200\n",
      "Saved debug image with 11 polygons\n"
     ]
    },
    {
     "name": "stderr",
     "output_type": "stream",
     "text": [
      "Processing tiles:  50%|█████     | 138/276 [10:50<08:24,  3.66s/it]"
     ]
    },
    {
     "name": "stdout",
     "output_type": "stream",
     "text": [
      "Output range: [-2.711, 17.670]\n",
      "Class 1 prob range: [0.000, 0.948]\n",
      "Positive pixels in batch: 748809 / 819200\n",
      "Saved debug image with 8 polygons\n"
     ]
    },
    {
     "name": "stderr",
     "output_type": "stream",
     "text": [
      "Processing tiles:  50%|█████     | 139/276 [10:53<08:25,  3.69s/it]"
     ]
    },
    {
     "name": "stdout",
     "output_type": "stream",
     "text": [
      "Output range: [-2.684, 15.708]\n",
      "Class 1 prob range: [0.000, 0.946]\n",
      "Positive pixels in batch: 769595 / 819200\n",
      "Saved debug image with 10 polygons\n"
     ]
    },
    {
     "name": "stderr",
     "output_type": "stream",
     "text": [
      "Processing tiles:  51%|█████     | 140/276 [10:57<08:34,  3.78s/it]"
     ]
    },
    {
     "name": "stdout",
     "output_type": "stream",
     "text": [
      "Output range: [-2.778, 18.055]\n",
      "Class 1 prob range: [0.000, 0.949]\n",
      "Positive pixels in batch: 776478 / 819200\n",
      "Saved debug image with 8 polygons\n"
     ]
    },
    {
     "name": "stderr",
     "output_type": "stream",
     "text": [
      "Processing tiles:  51%|█████     | 141/276 [11:01<08:25,  3.74s/it]"
     ]
    },
    {
     "name": "stdout",
     "output_type": "stream",
     "text": [
      "Output range: [-2.585, 16.956]\n",
      "Class 1 prob range: [0.000, 0.948]\n",
      "Positive pixels in batch: 781138 / 819200\n",
      "Saved debug image with 7 polygons\n"
     ]
    },
    {
     "name": "stderr",
     "output_type": "stream",
     "text": [
      "Processing tiles:  51%|█████▏    | 142/276 [11:05<08:26,  3.78s/it]"
     ]
    },
    {
     "name": "stdout",
     "output_type": "stream",
     "text": [
      "Output range: [-2.656, 16.161]\n",
      "Class 1 prob range: [0.000, 0.944]\n",
      "Positive pixels in batch: 775190 / 819200\n",
      "Saved debug image with 10 polygons\n"
     ]
    },
    {
     "name": "stderr",
     "output_type": "stream",
     "text": [
      "Processing tiles:  52%|█████▏    | 143/276 [11:09<08:22,  3.78s/it]"
     ]
    },
    {
     "name": "stdout",
     "output_type": "stream",
     "text": [
      "Output range: [-2.579, 16.897]\n",
      "Class 1 prob range: [0.000, 0.942]\n",
      "Positive pixels in batch: 758702 / 819200\n",
      "Saved debug image with 10 polygons\n"
     ]
    },
    {
     "name": "stderr",
     "output_type": "stream",
     "text": [
      "Processing tiles:  52%|█████▏    | 144/276 [11:12<08:16,  3.76s/it]"
     ]
    },
    {
     "name": "stdout",
     "output_type": "stream",
     "text": [
      "Output range: [-2.660, 14.579]\n",
      "Class 1 prob range: [0.000, 0.944]\n",
      "Positive pixels in batch: 803332 / 819200\n",
      "Saved debug image with 4 polygons\n",
      "Output range: [-2.670, 16.943]\n",
      "Class 1 prob range: [0.000, 0.945]\n",
      "Positive pixels in batch: 765905 / 819200\n",
      "Saved debug image with 8 polygons\n"
     ]
    },
    {
     "name": "stderr",
     "output_type": "stream",
     "text": [
      "Processing tiles:  53%|█████▎    | 146/276 [11:20<08:17,  3.82s/it]"
     ]
    },
    {
     "name": "stdout",
     "output_type": "stream",
     "text": [
      "Output range: [-2.641, 18.880]\n",
      "Class 1 prob range: [0.000, 0.946]\n",
      "Positive pixels in batch: 730458 / 819200\n",
      "Saved debug image with 8 polygons\n"
     ]
    },
    {
     "name": "stderr",
     "output_type": "stream",
     "text": [
      "Processing tiles:  53%|█████▎    | 147/276 [11:24<08:12,  3.82s/it]"
     ]
    },
    {
     "name": "stdout",
     "output_type": "stream",
     "text": [
      "Output range: [-2.697, 21.093]\n",
      "Class 1 prob range: [0.000, 0.952]\n",
      "Positive pixels in batch: 715742 / 819200\n",
      "Saved debug image with 10 polygons\n"
     ]
    },
    {
     "name": "stderr",
     "output_type": "stream",
     "text": [
      "Processing tiles:  54%|█████▎    | 148/276 [11:28<08:12,  3.85s/it]"
     ]
    },
    {
     "name": "stdout",
     "output_type": "stream",
     "text": [
      "Output range: [-2.660, 20.825]\n",
      "Class 1 prob range: [0.000, 0.952]\n",
      "Positive pixels in batch: 736037 / 819200\n",
      "Saved debug image with 7 polygons\n"
     ]
    },
    {
     "name": "stderr",
     "output_type": "stream",
     "text": [
      "Processing tiles:  54%|█████▍    | 149/276 [11:32<08:03,  3.81s/it]"
     ]
    },
    {
     "name": "stdout",
     "output_type": "stream",
     "text": [
      "Output range: [-2.623, 19.487]\n",
      "Class 1 prob range: [0.000, 0.945]\n",
      "Positive pixels in batch: 717496 / 819200\n",
      "Saved debug image with 10 polygons\n"
     ]
    },
    {
     "name": "stderr",
     "output_type": "stream",
     "text": [
      "Processing tiles:  54%|█████▍    | 150/276 [11:35<07:54,  3.76s/it]"
     ]
    },
    {
     "name": "stdout",
     "output_type": "stream",
     "text": [
      "Output range: [-2.620, 15.719]\n",
      "Class 1 prob range: [0.000, 0.948]\n",
      "Positive pixels in batch: 754276 / 819200\n",
      "Saved debug image with 9 polygons\n"
     ]
    },
    {
     "name": "stderr",
     "output_type": "stream",
     "text": [
      "Processing tiles:  55%|█████▍    | 151/276 [11:39<07:56,  3.81s/it]"
     ]
    },
    {
     "name": "stdout",
     "output_type": "stream",
     "text": [
      "Output range: [-2.583, 15.716]\n",
      "Class 1 prob range: [0.000, 0.946]\n",
      "Positive pixels in batch: 777246 / 819200\n",
      "Saved debug image with 8 polygons\n"
     ]
    },
    {
     "name": "stderr",
     "output_type": "stream",
     "text": [
      "Processing tiles:  55%|█████▌    | 152/276 [11:43<07:45,  3.76s/it]"
     ]
    },
    {
     "name": "stdout",
     "output_type": "stream",
     "text": [
      "Output range: [-2.664, 17.838]\n",
      "Class 1 prob range: [0.000, 0.950]\n",
      "Positive pixels in batch: 772631 / 819200\n",
      "Saved debug image with 9 polygons\n"
     ]
    },
    {
     "name": "stderr",
     "output_type": "stream",
     "text": [
      "Processing tiles:  55%|█████▌    | 153/276 [11:47<07:48,  3.81s/it]"
     ]
    },
    {
     "name": "stdout",
     "output_type": "stream",
     "text": [
      "Output range: [-2.664, 12.590]\n",
      "Class 1 prob range: [0.000, 0.946]\n",
      "Positive pixels in batch: 790337 / 819200\n",
      "Saved debug image with 8 polygons\n"
     ]
    },
    {
     "name": "stderr",
     "output_type": "stream",
     "text": [
      "Processing tiles:  56%|█████▌    | 154/276 [11:51<07:50,  3.86s/it]"
     ]
    },
    {
     "name": "stdout",
     "output_type": "stream",
     "text": [
      "Output range: [-2.680, 16.301]\n",
      "Class 1 prob range: [0.000, 0.946]\n",
      "Positive pixels in batch: 775678 / 819200\n",
      "Saved debug image with 9 polygons\n"
     ]
    },
    {
     "name": "stderr",
     "output_type": "stream",
     "text": [
      "Processing tiles:  56%|█████▌    | 155/276 [11:55<07:48,  3.88s/it]"
     ]
    },
    {
     "name": "stdout",
     "output_type": "stream",
     "text": [
      "Output range: [-2.580, 13.847]\n",
      "Class 1 prob range: [0.000, 0.949]\n",
      "Positive pixels in batch: 785792 / 819200\n",
      "Saved debug image with 7 polygons\n"
     ]
    },
    {
     "name": "stderr",
     "output_type": "stream",
     "text": [
      "Processing tiles:  57%|█████▋    | 156/276 [11:59<07:55,  3.96s/it]"
     ]
    },
    {
     "name": "stdout",
     "output_type": "stream",
     "text": [
      "Output range: [-2.660, 11.892]\n",
      "Class 1 prob range: [0.000, 0.951]\n",
      "Positive pixels in batch: 798923 / 819200\n",
      "Saved debug image with 8 polygons\n"
     ]
    },
    {
     "name": "stderr",
     "output_type": "stream",
     "text": [
      "Processing tiles:  57%|█████▋    | 157/276 [12:03<07:56,  4.00s/it]"
     ]
    },
    {
     "name": "stdout",
     "output_type": "stream",
     "text": [
      "Output range: [-2.599, 18.299]\n",
      "Class 1 prob range: [0.000, 0.951]\n",
      "Positive pixels in batch: 778204 / 819200\n",
      "Saved debug image with 6 polygons\n"
     ]
    },
    {
     "name": "stderr",
     "output_type": "stream",
     "text": [
      "Processing tiles:  57%|█████▋    | 158/276 [12:07<07:43,  3.93s/it]"
     ]
    },
    {
     "name": "stdout",
     "output_type": "stream",
     "text": [
      "Output range: [-2.756, 19.436]\n",
      "Class 1 prob range: [0.000, 0.947]\n",
      "Positive pixels in batch: 724523 / 819200\n",
      "Saved debug image with 9 polygons\n"
     ]
    },
    {
     "name": "stderr",
     "output_type": "stream",
     "text": [
      "Processing tiles:  58%|█████▊    | 159/276 [12:11<07:41,  3.94s/it]"
     ]
    },
    {
     "name": "stdout",
     "output_type": "stream",
     "text": [
      "Output range: [-2.697, 20.825]\n",
      "Class 1 prob range: [0.000, 0.950]\n",
      "Positive pixels in batch: 731669 / 819200\n",
      "Saved debug image with 10 polygons\n"
     ]
    },
    {
     "name": "stderr",
     "output_type": "stream",
     "text": [
      "Processing tiles:  58%|█████▊    | 160/276 [12:15<07:50,  4.05s/it]"
     ]
    },
    {
     "name": "stdout",
     "output_type": "stream",
     "text": [
      "Output range: [-2.707, 20.825]\n",
      "Class 1 prob range: [0.000, 0.947]\n",
      "Positive pixels in batch: 715874 / 819200\n",
      "Saved debug image with 8 polygons\n"
     ]
    },
    {
     "name": "stderr",
     "output_type": "stream",
     "text": [
      "Processing tiles:  58%|█████▊    | 161/276 [12:18<07:29,  3.91s/it]"
     ]
    },
    {
     "name": "stdout",
     "output_type": "stream",
     "text": [
      "Output range: [-2.707, 19.487]\n",
      "Class 1 prob range: [0.000, 0.947]\n",
      "Positive pixels in batch: 719638 / 819200\n",
      "Saved debug image with 11 polygons\n"
     ]
    },
    {
     "name": "stderr",
     "output_type": "stream",
     "text": [
      "Processing tiles:  59%|█████▊    | 162/276 [12:22<07:21,  3.87s/it]"
     ]
    },
    {
     "name": "stdout",
     "output_type": "stream",
     "text": [
      "Output range: [-2.638, 16.571]\n",
      "Class 1 prob range: [0.000, 0.947]\n",
      "Positive pixels in batch: 749977 / 819200\n",
      "Saved debug image with 9 polygons\n"
     ]
    },
    {
     "name": "stderr",
     "output_type": "stream",
     "text": [
      "Processing tiles:  59%|█████▉    | 163/276 [12:26<07:22,  3.91s/it]"
     ]
    },
    {
     "name": "stdout",
     "output_type": "stream",
     "text": [
      "Output range: [-2.589, 12.928]\n",
      "Class 1 prob range: [0.000, 0.943]\n",
      "Positive pixels in batch: 770822 / 819200\n",
      "Saved debug image with 9 polygons\n"
     ]
    },
    {
     "name": "stderr",
     "output_type": "stream",
     "text": [
      "Processing tiles:  59%|█████▉    | 164/276 [12:30<07:13,  3.87s/it]"
     ]
    },
    {
     "name": "stdout",
     "output_type": "stream",
     "text": [
      "Output range: [-2.664, 13.365]\n",
      "Class 1 prob range: [0.000, 0.944]\n",
      "Positive pixels in batch: 786328 / 819200\n",
      "Saved debug image with 7 polygons\n"
     ]
    },
    {
     "name": "stderr",
     "output_type": "stream",
     "text": [
      "Processing tiles:  60%|█████▉    | 165/276 [12:34<07:13,  3.91s/it]"
     ]
    },
    {
     "name": "stdout",
     "output_type": "stream",
     "text": [
      "Output range: [-2.718, 12.121]\n",
      "Class 1 prob range: [0.000, 0.946]\n",
      "Positive pixels in batch: 785178 / 819200\n",
      "Saved debug image with 8 polygons\n"
     ]
    },
    {
     "name": "stderr",
     "output_type": "stream",
     "text": [
      "Processing tiles:  60%|██████    | 166/276 [12:38<07:12,  3.93s/it]"
     ]
    },
    {
     "name": "stdout",
     "output_type": "stream",
     "text": [
      "Output range: [-2.635, 16.301]\n",
      "Class 1 prob range: [0.000, 0.948]\n",
      "Positive pixels in batch: 785760 / 819200\n",
      "Saved debug image with 9 polygons\n"
     ]
    },
    {
     "name": "stderr",
     "output_type": "stream",
     "text": [
      "Processing tiles:  61%|██████    | 167/276 [12:42<07:06,  3.92s/it]"
     ]
    },
    {
     "name": "stdout",
     "output_type": "stream",
     "text": [
      "Output range: [-2.640, 13.849]\n",
      "Class 1 prob range: [0.000, 0.949]\n",
      "Positive pixels in batch: 794069 / 819200\n",
      "Saved debug image with 5 polygons\n"
     ]
    },
    {
     "name": "stderr",
     "output_type": "stream",
     "text": [
      "Processing tiles:  61%|██████    | 168/276 [12:46<06:59,  3.89s/it]"
     ]
    },
    {
     "name": "stdout",
     "output_type": "stream",
     "text": [
      "Output range: [-2.643, 11.892]\n",
      "Class 1 prob range: [0.000, 0.951]\n",
      "Positive pixels in batch: 802797 / 819200\n",
      "Saved debug image with 6 polygons\n"
     ]
    },
    {
     "name": "stderr",
     "output_type": "stream",
     "text": [
      "Processing tiles:  61%|██████    | 169/276 [12:50<06:57,  3.91s/it]"
     ]
    },
    {
     "name": "stdout",
     "output_type": "stream",
     "text": [
      "Output range: [-2.600, 18.935]\n",
      "Class 1 prob range: [0.000, 0.951]\n",
      "Positive pixels in batch: 758387 / 819200\n",
      "Saved debug image with 7 polygons\n"
     ]
    },
    {
     "name": "stderr",
     "output_type": "stream",
     "text": [
      "Processing tiles:  62%|██████▏   | 170/276 [12:53<06:49,  3.86s/it]"
     ]
    },
    {
     "name": "stdout",
     "output_type": "stream",
     "text": [
      "Output range: [-2.723, 20.513]\n",
      "Class 1 prob range: [0.000, 0.947]\n",
      "Positive pixels in batch: 715073 / 819200\n",
      "Saved debug image with 9 polygons\n"
     ]
    },
    {
     "name": "stderr",
     "output_type": "stream",
     "text": [
      "Processing tiles:  62%|██████▏   | 171/276 [12:57<06:49,  3.90s/it]"
     ]
    },
    {
     "name": "stdout",
     "output_type": "stream",
     "text": [
      "Output range: [-2.723, 19.199]\n",
      "Class 1 prob range: [0.000, 0.947]\n",
      "Positive pixels in batch: 731492 / 819200\n",
      "Saved debug image with 8 polygons\n"
     ]
    },
    {
     "name": "stderr",
     "output_type": "stream",
     "text": [
      "Processing tiles:  62%|██████▏   | 172/276 [13:01<06:38,  3.83s/it]"
     ]
    },
    {
     "name": "stdout",
     "output_type": "stream",
     "text": [
      "Output range: [-2.768, 19.352]\n",
      "Class 1 prob range: [0.000, 0.947]\n",
      "Positive pixels in batch: 701904 / 819200\n",
      "Saved debug image with 10 polygons\n"
     ]
    },
    {
     "name": "stderr",
     "output_type": "stream",
     "text": [
      "Processing tiles:  63%|██████▎   | 173/276 [13:05<06:28,  3.77s/it]"
     ]
    },
    {
     "name": "stdout",
     "output_type": "stream",
     "text": [
      "Output range: [-2.693, 18.409]\n",
      "Class 1 prob range: [0.000, 0.951]\n",
      "Positive pixels in batch: 734794 / 819200\n",
      "Saved debug image with 10 polygons\n"
     ]
    },
    {
     "name": "stderr",
     "output_type": "stream",
     "text": [
      "Processing tiles:  63%|██████▎   | 174/276 [13:09<06:24,  3.77s/it]"
     ]
    },
    {
     "name": "stdout",
     "output_type": "stream",
     "text": [
      "Output range: [-2.694, 16.513]\n",
      "Class 1 prob range: [0.000, 0.948]\n",
      "Positive pixels in batch: 754775 / 819200\n",
      "Saved debug image with 9 polygons\n"
     ]
    },
    {
     "name": "stderr",
     "output_type": "stream",
     "text": [
      "Processing tiles:  63%|██████▎   | 175/276 [13:12<06:15,  3.72s/it]"
     ]
    },
    {
     "name": "stdout",
     "output_type": "stream",
     "text": [
      "Output range: [-2.674, 16.513]\n",
      "Class 1 prob range: [0.000, 0.943]\n",
      "Positive pixels in batch: 747226 / 819200\n",
      "Saved debug image with 9 polygons\n"
     ]
    },
    {
     "name": "stderr",
     "output_type": "stream",
     "text": [
      "Processing tiles:  64%|██████▍   | 176/276 [13:16<06:08,  3.69s/it]"
     ]
    },
    {
     "name": "stdout",
     "output_type": "stream",
     "text": [
      "Output range: [-2.674, 13.447]\n",
      "Class 1 prob range: [0.000, 0.943]\n",
      "Positive pixels in batch: 797509 / 819200\n",
      "Saved debug image with 5 polygons\n"
     ]
    },
    {
     "name": "stderr",
     "output_type": "stream",
     "text": [
      "Processing tiles:  64%|██████▍   | 177/276 [13:19<06:00,  3.64s/it]"
     ]
    },
    {
     "name": "stdout",
     "output_type": "stream",
     "text": [
      "Output range: [-2.603, 13.446]\n",
      "Class 1 prob range: [0.000, 0.944]\n",
      "Positive pixels in batch: 785122 / 819200\n",
      "Saved debug image with 8 polygons\n"
     ]
    },
    {
     "name": "stderr",
     "output_type": "stream",
     "text": [
      "Processing tiles:  64%|██████▍   | 178/276 [13:23<05:53,  3.61s/it]"
     ]
    },
    {
     "name": "stdout",
     "output_type": "stream",
     "text": [
      "Output range: [-2.665, 10.238]\n",
      "Class 1 prob range: [0.000, 0.948]\n",
      "Positive pixels in batch: 794255 / 819200\n",
      "Saved debug image with 8 polygons\n"
     ]
    },
    {
     "name": "stderr",
     "output_type": "stream",
     "text": [
      "Processing tiles:  65%|██████▍   | 179/276 [13:26<05:51,  3.62s/it]"
     ]
    },
    {
     "name": "stdout",
     "output_type": "stream",
     "text": [
      "Output range: [-2.631, 9.797]\n",
      "Class 1 prob range: [0.000, 0.946]\n",
      "Positive pixels in batch: 796520 / 819200\n",
      "Saved debug image with 7 polygons\n"
     ]
    },
    {
     "name": "stderr",
     "output_type": "stream",
     "text": [
      "Processing tiles:  65%|██████▌   | 180/276 [13:30<05:45,  3.60s/it]"
     ]
    },
    {
     "name": "stdout",
     "output_type": "stream",
     "text": [
      "Output range: [-2.688, 6.952]\n",
      "Class 1 prob range: [0.001, 0.947]\n",
      "Positive pixels in batch: 813850 / 819200\n",
      "Saved debug image with 2 polygons\n"
     ]
    },
    {
     "name": "stderr",
     "output_type": "stream",
     "text": [
      "Processing tiles:  66%|██████▌   | 181/276 [13:34<05:43,  3.61s/it]"
     ]
    },
    {
     "name": "stdout",
     "output_type": "stream",
     "text": [
      "Output range: [-2.586, 18.935]\n",
      "Class 1 prob range: [0.000, 0.943]\n",
      "Positive pixels in batch: 759052 / 819200\n",
      "Saved debug image with 7 polygons\n"
     ]
    },
    {
     "name": "stderr",
     "output_type": "stream",
     "text": [
      "Processing tiles:  66%|██████▌   | 182/276 [13:38<05:47,  3.69s/it]"
     ]
    },
    {
     "name": "stdout",
     "output_type": "stream",
     "text": [
      "Output range: [-2.643, 20.509]\n",
      "Class 1 prob range: [0.000, 0.947]\n",
      "Positive pixels in batch: 722083 / 819200\n",
      "Saved debug image with 9 polygons\n"
     ]
    },
    {
     "name": "stderr",
     "output_type": "stream",
     "text": [
      "Processing tiles:  66%|██████▋   | 183/276 [13:41<05:44,  3.70s/it]"
     ]
    },
    {
     "name": "stdout",
     "output_type": "stream",
     "text": [
      "Output range: [-2.683, 19.221]\n",
      "Class 1 prob range: [0.000, 0.945]\n",
      "Positive pixels in batch: 752037 / 819200\n",
      "Saved debug image with 8 polygons\n"
     ]
    },
    {
     "name": "stderr",
     "output_type": "stream",
     "text": [
      "Processing tiles:  67%|██████▋   | 184/276 [13:45<05:43,  3.73s/it]"
     ]
    },
    {
     "name": "stdout",
     "output_type": "stream",
     "text": [
      "Output range: [-2.680, 18.484]\n",
      "Class 1 prob range: [0.000, 0.947]\n",
      "Positive pixels in batch: 709231 / 819200\n",
      "Saved debug image with 11 polygons\n"
     ]
    },
    {
     "name": "stderr",
     "output_type": "stream",
     "text": [
      "Processing tiles:  67%|██████▋   | 185/276 [13:49<05:37,  3.71s/it]"
     ]
    },
    {
     "name": "stdout",
     "output_type": "stream",
     "text": [
      "Output range: [-2.692, 18.071]\n",
      "Class 1 prob range: [0.000, 0.949]\n",
      "Positive pixels in batch: 759019 / 819200\n",
      "Saved debug image with 8 polygons\n"
     ]
    },
    {
     "name": "stderr",
     "output_type": "stream",
     "text": [
      "Processing tiles:  67%|██████▋   | 186/276 [13:52<05:27,  3.64s/it]"
     ]
    },
    {
     "name": "stdout",
     "output_type": "stream",
     "text": [
      "Output range: [-2.782, 16.513]\n",
      "Class 1 prob range: [0.000, 0.948]\n",
      "Positive pixels in batch: 771934 / 819200\n",
      "Saved debug image with 7 polygons\n"
     ]
    },
    {
     "name": "stderr",
     "output_type": "stream",
     "text": [
      "Processing tiles:  68%|██████▊   | 187/276 [13:56<05:40,  3.83s/it]"
     ]
    },
    {
     "name": "stdout",
     "output_type": "stream",
     "text": [
      "Output range: [-2.653, 16.513]\n",
      "Class 1 prob range: [0.000, 0.947]\n",
      "Positive pixels in batch: 759952 / 819200\n",
      "Saved debug image with 9 polygons\n"
     ]
    },
    {
     "name": "stderr",
     "output_type": "stream",
     "text": [
      "Processing tiles:  68%|██████▊   | 188/276 [14:01<05:59,  4.08s/it]"
     ]
    },
    {
     "name": "stdout",
     "output_type": "stream",
     "text": [
      "Output range: [-2.672, 13.447]\n",
      "Class 1 prob range: [0.000, 0.945]\n",
      "Positive pixels in batch: 797494 / 819200\n",
      "Saved debug image with 6 polygons\n"
     ]
    },
    {
     "name": "stderr",
     "output_type": "stream",
     "text": [
      "Processing tiles:  68%|██████▊   | 189/276 [14:05<05:43,  3.95s/it]"
     ]
    },
    {
     "name": "stdout",
     "output_type": "stream",
     "text": [
      "Output range: [-2.658, 13.446]\n",
      "Class 1 prob range: [0.000, 0.943]\n",
      "Positive pixels in batch: 792947 / 819200\n",
      "Saved debug image with 5 polygons\n"
     ]
    },
    {
     "name": "stderr",
     "output_type": "stream",
     "text": [
      "Processing tiles:  69%|██████▉   | 190/276 [14:09<05:36,  3.91s/it]"
     ]
    },
    {
     "name": "stdout",
     "output_type": "stream",
     "text": [
      "Output range: [-2.611, 8.208]\n",
      "Class 1 prob range: [0.000, 0.944]\n",
      "Positive pixels in batch: 800586 / 819200\n",
      "Saved debug image with 7 polygons\n"
     ]
    },
    {
     "name": "stderr",
     "output_type": "stream",
     "text": [
      "Processing tiles:  69%|██████▉   | 191/276 [14:12<05:31,  3.90s/it]"
     ]
    },
    {
     "name": "stdout",
     "output_type": "stream",
     "text": [
      "Output range: [-2.631, 8.883]\n",
      "Class 1 prob range: [0.000, 0.946]\n",
      "Positive pixels in batch: 805609 / 819200\n",
      "Saved debug image with 6 polygons\n"
     ]
    },
    {
     "name": "stderr",
     "output_type": "stream",
     "text": [
      "Processing tiles:  70%|██████▉   | 192/276 [14:16<05:24,  3.86s/it]"
     ]
    },
    {
     "name": "stdout",
     "output_type": "stream",
     "text": [
      "Output range: [-2.609, 12.451]\n",
      "Class 1 prob range: [0.000, 0.940]\n",
      "Positive pixels in batch: 812411 / 819200\n",
      "Saved debug image with 2 polygons\n"
     ]
    },
    {
     "name": "stderr",
     "output_type": "stream",
     "text": [
      "Processing tiles:  70%|██████▉   | 193/276 [14:20<05:20,  3.87s/it]"
     ]
    },
    {
     "name": "stdout",
     "output_type": "stream",
     "text": [
      "Output range: [-2.678, 16.025]\n",
      "Class 1 prob range: [0.000, 0.949]\n",
      "Positive pixels in batch: 785154 / 819200\n",
      "Saved debug image with 6 polygons\n"
     ]
    },
    {
     "name": "stderr",
     "output_type": "stream",
     "text": [
      "Processing tiles:  70%|███████   | 194/276 [14:24<05:11,  3.80s/it]"
     ]
    },
    {
     "name": "stdout",
     "output_type": "stream",
     "text": [
      "Output range: [-2.706, 20.421]\n",
      "Class 1 prob range: [0.000, 0.950]\n",
      "Positive pixels in batch: 770121 / 819200\n",
      "Saved debug image with 7 polygons\n"
     ]
    },
    {
     "name": "stderr",
     "output_type": "stream",
     "text": [
      "Processing tiles:  71%|███████   | 195/276 [14:28<05:11,  3.84s/it]"
     ]
    },
    {
     "name": "stdout",
     "output_type": "stream",
     "text": [
      "Output range: [-2.745, 20.421]\n",
      "Class 1 prob range: [0.000, 0.953]\n",
      "Positive pixels in batch: 764915 / 819200\n",
      "Saved debug image with 7 polygons\n"
     ]
    },
    {
     "name": "stderr",
     "output_type": "stream",
     "text": [
      "Processing tiles:  71%|███████   | 196/276 [14:31<05:04,  3.80s/it]"
     ]
    },
    {
     "name": "stdout",
     "output_type": "stream",
     "text": [
      "Output range: [-2.762, 18.350]\n",
      "Class 1 prob range: [0.000, 0.954]\n",
      "Positive pixels in batch: 729222 / 819200\n",
      "Saved debug image with 9 polygons\n"
     ]
    },
    {
     "name": "stderr",
     "output_type": "stream",
     "text": [
      "Processing tiles:  71%|███████▏  | 197/276 [14:35<05:00,  3.80s/it]"
     ]
    },
    {
     "name": "stdout",
     "output_type": "stream",
     "text": [
      "Output range: [-2.697, 15.973]\n",
      "Class 1 prob range: [0.000, 0.947]\n",
      "Positive pixels in batch: 784728 / 819200\n",
      "Saved debug image with 8 polygons\n"
     ]
    },
    {
     "name": "stderr",
     "output_type": "stream",
     "text": [
      "Processing tiles:  72%|███████▏  | 198/276 [14:39<04:53,  3.77s/it]"
     ]
    },
    {
     "name": "stdout",
     "output_type": "stream",
     "text": [
      "Output range: [-2.692, 14.759]\n",
      "Class 1 prob range: [0.000, 0.947]\n",
      "Positive pixels in batch: 783387 / 819200\n",
      "Saved debug image with 8 polygons\n"
     ]
    },
    {
     "name": "stderr",
     "output_type": "stream",
     "text": [
      "Processing tiles:  72%|███████▏  | 199/276 [14:43<04:50,  3.77s/it]"
     ]
    },
    {
     "name": "stdout",
     "output_type": "stream",
     "text": [
      "Output range: [-2.681, 16.429]\n",
      "Class 1 prob range: [0.000, 0.950]\n",
      "Positive pixels in batch: 768831 / 819200\n",
      "Saved debug image with 10 polygons\n"
     ]
    },
    {
     "name": "stderr",
     "output_type": "stream",
     "text": [
      "Processing tiles:  72%|███████▏  | 200/276 [14:46<04:40,  3.69s/it]"
     ]
    },
    {
     "name": "stdout",
     "output_type": "stream",
     "text": [
      "Output range: [-2.593, 12.295]\n",
      "Class 1 prob range: [0.000, 0.945]\n",
      "Positive pixels in batch: 796121 / 819200\n",
      "Saved debug image with 7 polygons\n"
     ]
    },
    {
     "name": "stderr",
     "output_type": "stream",
     "text": [
      "Processing tiles:  73%|███████▎  | 201/276 [14:50<04:36,  3.68s/it]"
     ]
    },
    {
     "name": "stdout",
     "output_type": "stream",
     "text": [
      "Output range: [-2.632, 14.394]\n",
      "Class 1 prob range: [0.000, 0.942]\n",
      "Positive pixels in batch: 800154 / 819200\n",
      "Saved debug image with 4 polygons\n"
     ]
    },
    {
     "name": "stderr",
     "output_type": "stream",
     "text": [
      "Processing tiles:  73%|███████▎  | 202/276 [14:54<04:36,  3.74s/it]"
     ]
    },
    {
     "name": "stdout",
     "output_type": "stream",
     "text": [
      "Output range: [-2.651, 14.399]\n",
      "Class 1 prob range: [0.000, 0.944]\n",
      "Positive pixels in batch: 807625 / 819200\n",
      "Saved debug image with 4 polygons\n"
     ]
    },
    {
     "name": "stderr",
     "output_type": "stream",
     "text": [
      "Processing tiles:  74%|███████▎  | 203/276 [14:57<04:33,  3.74s/it]"
     ]
    },
    {
     "name": "stdout",
     "output_type": "stream",
     "text": [
      "Output range: [-2.603, 10.408]\n",
      "Class 1 prob range: [0.000, 0.945]\n",
      "Positive pixels in batch: 813670 / 819200\n",
      "Saved debug image with 3 polygons\n"
     ]
    },
    {
     "name": "stderr",
     "output_type": "stream",
     "text": [
      "Processing tiles:  74%|███████▍  | 204/276 [15:01<04:29,  3.75s/it]"
     ]
    },
    {
     "name": "stdout",
     "output_type": "stream",
     "text": [
      "Output range: [-2.690, 12.451]\n",
      "Class 1 prob range: [0.000, 0.946]\n",
      "Positive pixels in batch: 813381 / 819200\n",
      "Saved debug image with 1 polygons\n"
     ]
    },
    {
     "name": "stderr",
     "output_type": "stream",
     "text": [
      "Processing tiles:  74%|███████▍  | 205/276 [15:05<04:21,  3.69s/it]"
     ]
    },
    {
     "name": "stdout",
     "output_type": "stream",
     "text": [
      "Output range: [-2.800, 11.838]\n",
      "Class 1 prob range: [0.000, 0.949]\n",
      "Positive pixels in batch: 799178 / 819200\n",
      "Saved debug image with 4 polygons\n"
     ]
    },
    {
     "name": "stderr",
     "output_type": "stream",
     "text": [
      "Processing tiles:  75%|███████▍  | 206/276 [15:09<04:22,  3.76s/it]"
     ]
    },
    {
     "name": "stdout",
     "output_type": "stream",
     "text": [
      "Output range: [-2.706, 15.913]\n",
      "Class 1 prob range: [0.000, 0.950]\n",
      "Positive pixels in batch: 781125 / 819200\n",
      "Saved debug image with 7 polygons\n"
     ]
    },
    {
     "name": "stderr",
     "output_type": "stream",
     "text": [
      "Processing tiles:  75%|███████▌  | 207/276 [15:12<04:18,  3.74s/it]"
     ]
    },
    {
     "name": "stdout",
     "output_type": "stream",
     "text": [
      "Output range: [-2.732, 17.435]\n",
      "Class 1 prob range: [0.000, 0.952]\n",
      "Positive pixels in batch: 767517 / 819200\n",
      "Saved debug image with 8 polygons\n"
     ]
    },
    {
     "name": "stderr",
     "output_type": "stream",
     "text": [
      "Processing tiles:  75%|███████▌  | 208/276 [15:16<04:13,  3.73s/it]"
     ]
    },
    {
     "name": "stdout",
     "output_type": "stream",
     "text": [
      "Output range: [-2.753, 16.907]\n",
      "Class 1 prob range: [0.000, 0.952]\n",
      "Positive pixels in batch: 769788 / 819200\n",
      "Saved debug image with 8 polygons\n"
     ]
    },
    {
     "name": "stderr",
     "output_type": "stream",
     "text": [
      "Processing tiles:  76%|███████▌  | 209/276 [15:20<04:10,  3.73s/it]"
     ]
    },
    {
     "name": "stdout",
     "output_type": "stream",
     "text": [
      "Output range: [-2.607, 15.985]\n",
      "Class 1 prob range: [0.000, 0.947]\n",
      "Positive pixels in batch: 781789 / 819200\n",
      "Saved debug image with 8 polygons\n"
     ]
    },
    {
     "name": "stderr",
     "output_type": "stream",
     "text": [
      "Processing tiles:  76%|███████▌  | 210/276 [15:24<04:07,  3.75s/it]"
     ]
    },
    {
     "name": "stdout",
     "output_type": "stream",
     "text": [
      "Output range: [-2.664, 14.766]\n",
      "Class 1 prob range: [0.000, 0.945]\n",
      "Positive pixels in batch: 771929 / 819200\n",
      "Saved debug image with 8 polygons\n"
     ]
    },
    {
     "name": "stderr",
     "output_type": "stream",
     "text": [
      "Processing tiles:  76%|███████▋  | 211/276 [15:27<04:05,  3.77s/it]"
     ]
    },
    {
     "name": "stdout",
     "output_type": "stream",
     "text": [
      "Output range: [-2.703, 16.522]\n",
      "Class 1 prob range: [0.000, 0.945]\n",
      "Positive pixels in batch: 761799 / 819200\n",
      "Saved debug image with 10 polygons\n"
     ]
    },
    {
     "name": "stderr",
     "output_type": "stream",
     "text": [
      "Processing tiles:  77%|███████▋  | 212/276 [15:31<03:59,  3.74s/it]"
     ]
    },
    {
     "name": "stdout",
     "output_type": "stream",
     "text": [
      "Output range: [-2.793, 16.526]\n",
      "Class 1 prob range: [0.000, 0.949]\n",
      "Positive pixels in batch: 792023 / 819200\n",
      "Saved debug image with 5 polygons\n"
     ]
    },
    {
     "name": "stderr",
     "output_type": "stream",
     "text": [
      "Processing tiles:  77%|███████▋  | 213/276 [15:35<03:56,  3.76s/it]"
     ]
    },
    {
     "name": "stdout",
     "output_type": "stream",
     "text": [
      "Output range: [-2.689, 14.394]\n",
      "Class 1 prob range: [0.000, 0.945]\n",
      "Positive pixels in batch: 797032 / 819200\n",
      "Saved debug image with 8 polygons\n"
     ]
    },
    {
     "name": "stderr",
     "output_type": "stream",
     "text": [
      "Processing tiles:  78%|███████▊  | 214/276 [15:39<03:51,  3.73s/it]"
     ]
    },
    {
     "name": "stdout",
     "output_type": "stream",
     "text": [
      "Output range: [-2.713, 14.399]\n",
      "Class 1 prob range: [0.000, 0.953]\n",
      "Positive pixels in batch: 810934 / 819200\n",
      "Saved debug image with 4 polygons\n"
     ]
    },
    {
     "name": "stderr",
     "output_type": "stream",
     "text": [
      "Processing tiles:  78%|███████▊  | 215/276 [15:42<03:47,  3.73s/it]"
     ]
    },
    {
     "name": "stdout",
     "output_type": "stream",
     "text": [
      "Output range: [-2.528, 10.408]\n",
      "Class 1 prob range: [0.000, 0.939]\n",
      "Positive pixels in batch: 814502 / 819200\n",
      "Saved debug image with 2 polygons\n"
     ]
    },
    {
     "name": "stderr",
     "output_type": "stream",
     "text": [
      "Processing tiles:  78%|███████▊  | 216/276 [15:46<03:40,  3.68s/it]"
     ]
    },
    {
     "name": "stdout",
     "output_type": "stream",
     "text": [
      "Output range: [-2.695, 6.044]\n",
      "Class 1 prob range: [0.002, 0.946]\n",
      "Positive pixels in batch: 817313 / 819200\n"
     ]
    },
    {
     "name": "stderr",
     "output_type": "stream",
     "text": [
      "Processing tiles:  79%|███████▊  | 217/276 [15:49<03:35,  3.66s/it]"
     ]
    },
    {
     "name": "stdout",
     "output_type": "stream",
     "text": [
      "Output range: [-2.621, 14.459]\n",
      "Class 1 prob range: [0.000, 0.950]\n",
      "Positive pixels in batch: 794976 / 819200\n",
      "Saved debug image with 3 polygons\n"
     ]
    },
    {
     "name": "stderr",
     "output_type": "stream",
     "text": [
      "Processing tiles:  79%|███████▉  | 218/276 [15:53<03:32,  3.67s/it]"
     ]
    },
    {
     "name": "stdout",
     "output_type": "stream",
     "text": [
      "Output range: [-2.617, 17.184]\n",
      "Class 1 prob range: [0.000, 0.949]\n",
      "Positive pixels in batch: 752392 / 819200\n",
      "Saved debug image with 7 polygons\n"
     ]
    },
    {
     "name": "stderr",
     "output_type": "stream",
     "text": [
      "Processing tiles:  79%|███████▉  | 219/276 [15:57<03:27,  3.63s/it]"
     ]
    },
    {
     "name": "stdout",
     "output_type": "stream",
     "text": [
      "Output range: [-2.677, 16.006]\n",
      "Class 1 prob range: [0.000, 0.950]\n",
      "Positive pixels in batch: 781766 / 819200\n",
      "Saved debug image with 8 polygons\n"
     ]
    },
    {
     "name": "stderr",
     "output_type": "stream",
     "text": [
      "Processing tiles:  80%|███████▉  | 220/276 [16:01<03:32,  3.79s/it]"
     ]
    },
    {
     "name": "stdout",
     "output_type": "stream",
     "text": [
      "Output range: [-2.617, 18.515]\n",
      "Class 1 prob range: [0.000, 0.944]\n",
      "Positive pixels in batch: 786993 / 819200\n",
      "Saved debug image with 7 polygons\n"
     ]
    },
    {
     "name": "stderr",
     "output_type": "stream",
     "text": [
      "Processing tiles:  80%|████████  | 221/276 [16:05<03:35,  3.92s/it]"
     ]
    },
    {
     "name": "stdout",
     "output_type": "stream",
     "text": [
      "Output range: [-2.702, 17.655]\n",
      "Class 1 prob range: [0.000, 0.946]\n",
      "Positive pixels in batch: 792500 / 819200\n",
      "Saved debug image with 4 polygons\n"
     ]
    },
    {
     "name": "stderr",
     "output_type": "stream",
     "text": [
      "Processing tiles:  80%|████████  | 222/276 [16:09<03:33,  3.95s/it]"
     ]
    },
    {
     "name": "stdout",
     "output_type": "stream",
     "text": [
      "Output range: [-2.664, 16.904]\n",
      "Class 1 prob range: [0.000, 0.949]\n",
      "Positive pixels in batch: 754806 / 819200\n",
      "Saved debug image with 8 polygons\n"
     ]
    },
    {
     "name": "stderr",
     "output_type": "stream",
     "text": [
      "Processing tiles:  81%|████████  | 223/276 [16:13<03:31,  3.99s/it]"
     ]
    },
    {
     "name": "stdout",
     "output_type": "stream",
     "text": [
      "Output range: [-2.684, 17.259]\n",
      "Class 1 prob range: [0.000, 0.949]\n",
      "Positive pixels in batch: 768057 / 819200\n",
      "Saved debug image with 9 polygons\n"
     ]
    },
    {
     "name": "stderr",
     "output_type": "stream",
     "text": [
      "Processing tiles:  81%|████████  | 224/276 [16:17<03:32,  4.08s/it]"
     ]
    },
    {
     "name": "stdout",
     "output_type": "stream",
     "text": [
      "Output range: [-2.795, 16.526]\n",
      "Class 1 prob range: [0.000, 0.950]\n",
      "Positive pixels in batch: 793609 / 819200\n",
      "Saved debug image with 7 polygons\n"
     ]
    },
    {
     "name": "stderr",
     "output_type": "stream",
     "text": [
      "Processing tiles:  82%|████████▏ | 225/276 [16:22<03:31,  4.15s/it]"
     ]
    },
    {
     "name": "stdout",
     "output_type": "stream",
     "text": [
      "Output range: [-2.689, 14.407]\n",
      "Class 1 prob range: [0.000, 0.950]\n",
      "Positive pixels in batch: 789988 / 819200\n",
      "Saved debug image with 8 polygons\n"
     ]
    },
    {
     "name": "stderr",
     "output_type": "stream",
     "text": [
      "Processing tiles:  82%|████████▏ | 226/276 [16:25<03:20,  4.00s/it]"
     ]
    },
    {
     "name": "stdout",
     "output_type": "stream",
     "text": [
      "Output range: [-2.676, 18.624]\n",
      "Class 1 prob range: [0.000, 0.953]\n",
      "Positive pixels in batch: 787787 / 819200\n",
      "Saved debug image with 6 polygons\n"
     ]
    },
    {
     "name": "stderr",
     "output_type": "stream",
     "text": [
      "Processing tiles:  82%|████████▏ | 227/276 [16:29<03:14,  3.97s/it]"
     ]
    },
    {
     "name": "stdout",
     "output_type": "stream",
     "text": [
      "Output range: [-2.620, 9.823]\n",
      "Class 1 prob range: [0.000, 0.948]\n",
      "Positive pixels in batch: 814068 / 819200\n",
      "Saved debug image with 3 polygons\n"
     ]
    },
    {
     "name": "stderr",
     "output_type": "stream",
     "text": [
      "Processing tiles:  83%|████████▎ | 228/276 [16:33<03:06,  3.88s/it]"
     ]
    },
    {
     "name": "stdout",
     "output_type": "stream",
     "text": [
      "Output range: [-2.707, 2.776]\n",
      "Class 1 prob range: [0.043, 0.944]\n",
      "Positive pixels in batch: 816336 / 819200\n",
      "Saved debug image with 2 polygons\n"
     ]
    },
    {
     "name": "stderr",
     "output_type": "stream",
     "text": [
      "Processing tiles:  83%|████████▎ | 229/276 [16:37<03:02,  3.89s/it]"
     ]
    },
    {
     "name": "stdout",
     "output_type": "stream",
     "text": [
      "Output range: [-2.621, 14.459]\n",
      "Class 1 prob range: [0.000, 0.951]\n",
      "Positive pixels in batch: 808531 / 819200\n",
      "Saved debug image with 1 polygons\n"
     ]
    },
    {
     "name": "stderr",
     "output_type": "stream",
     "text": [
      "Processing tiles:  83%|████████▎ | 230/276 [16:41<02:56,  3.85s/it]"
     ]
    },
    {
     "name": "stdout",
     "output_type": "stream",
     "text": [
      "Output range: [-2.621, 17.184]\n",
      "Class 1 prob range: [0.000, 0.948]\n",
      "Positive pixels in batch: 773498 / 819200\n",
      "Saved debug image with 3 polygons\n"
     ]
    },
    {
     "name": "stderr",
     "output_type": "stream",
     "text": [
      "Processing tiles:  84%|████████▎ | 231/276 [16:44<02:51,  3.82s/it]"
     ]
    },
    {
     "name": "stdout",
     "output_type": "stream",
     "text": [
      "Output range: [-2.681, 16.006]\n",
      "Class 1 prob range: [0.000, 0.952]\n",
      "Positive pixels in batch: 743859 / 819200\n",
      "Saved debug image with 3 polygons\n"
     ]
    },
    {
     "name": "stderr",
     "output_type": "stream",
     "text": [
      "Processing tiles:  84%|████████▍ | 232/276 [16:49<02:53,  3.94s/it]"
     ]
    },
    {
     "name": "stdout",
     "output_type": "stream",
     "text": [
      "Output range: [-2.625, 18.515]\n",
      "Class 1 prob range: [0.000, 0.952]\n",
      "Positive pixels in batch: 805407 / 819200\n",
      "Saved debug image with 2 polygons\n"
     ]
    },
    {
     "name": "stderr",
     "output_type": "stream",
     "text": [
      "Processing tiles:  84%|████████▍ | 233/276 [16:52<02:45,  3.85s/it]"
     ]
    },
    {
     "name": "stdout",
     "output_type": "stream",
     "text": [
      "Output range: [-2.691, 18.351]\n",
      "Class 1 prob range: [0.000, 0.950]\n",
      "Positive pixels in batch: 791508 / 819200\n",
      "Saved debug image with 2 polygons\n"
     ]
    },
    {
     "name": "stderr",
     "output_type": "stream",
     "text": [
      "Processing tiles:  85%|████████▍ | 234/276 [16:56<02:38,  3.78s/it]"
     ]
    },
    {
     "name": "stdout",
     "output_type": "stream",
     "text": [
      "Output range: [-2.715, 16.896]\n",
      "Class 1 prob range: [0.000, 0.948]\n",
      "Positive pixels in batch: 760278 / 819200\n",
      "Saved debug image with 8 polygons\n"
     ]
    },
    {
     "name": "stderr",
     "output_type": "stream",
     "text": [
      "Processing tiles:  85%|████████▌ | 235/276 [17:00<02:34,  3.78s/it]"
     ]
    },
    {
     "name": "stdout",
     "output_type": "stream",
     "text": [
      "Output range: [-2.665, 17.271]\n",
      "Class 1 prob range: [0.000, 0.949]\n",
      "Positive pixels in batch: 776157 / 819200\n",
      "Saved debug image with 8 polygons\n"
     ]
    },
    {
     "name": "stderr",
     "output_type": "stream",
     "text": [
      "Processing tiles:  86%|████████▌ | 236/276 [17:04<02:32,  3.81s/it]"
     ]
    },
    {
     "name": "stdout",
     "output_type": "stream",
     "text": [
      "Output range: [-2.709, 17.641]\n",
      "Class 1 prob range: [0.000, 0.950]\n",
      "Positive pixels in batch: 792515 / 819200\n",
      "Saved debug image with 8 polygons\n"
     ]
    },
    {
     "name": "stderr",
     "output_type": "stream",
     "text": [
      "Processing tiles:  86%|████████▌ | 237/276 [17:07<02:27,  3.79s/it]"
     ]
    },
    {
     "name": "stdout",
     "output_type": "stream",
     "text": [
      "Output range: [-2.731, 17.051]\n",
      "Class 1 prob range: [0.000, 0.951]\n",
      "Positive pixels in batch: 795360 / 819200\n",
      "Saved debug image with 4 polygons\n"
     ]
    },
    {
     "name": "stderr",
     "output_type": "stream",
     "text": [
      "Processing tiles:  86%|████████▌ | 238/276 [17:11<02:25,  3.84s/it]"
     ]
    },
    {
     "name": "stdout",
     "output_type": "stream",
     "text": [
      "Output range: [-2.665, 18.624]\n",
      "Class 1 prob range: [0.000, 0.951]\n",
      "Positive pixels in batch: 777658 / 819200\n",
      "Saved debug image with 7 polygons\n"
     ]
    },
    {
     "name": "stderr",
     "output_type": "stream",
     "text": [
      "Processing tiles:  87%|████████▋ | 239/276 [17:15<02:26,  3.95s/it]"
     ]
    },
    {
     "name": "stdout",
     "output_type": "stream",
     "text": [
      "Output range: [-2.896, 9.823]\n",
      "Class 1 prob range: [0.000, 0.950]\n",
      "Positive pixels in batch: 813814 / 819200\n",
      "Saved debug image with 3 polygons\n"
     ]
    },
    {
     "name": "stderr",
     "output_type": "stream",
     "text": [
      "Processing tiles:  87%|████████▋ | 240/276 [17:19<02:21,  3.93s/it]"
     ]
    },
    {
     "name": "stdout",
     "output_type": "stream",
     "text": [
      "Output range: [-2.756, 3.686]\n",
      "Class 1 prob range: [0.018, 0.950]\n",
      "Positive pixels in batch: 812506 / 819200\n",
      "Saved debug image with 4 polygons\n"
     ]
    },
    {
     "name": "stderr",
     "output_type": "stream",
     "text": [
      "Processing tiles:  87%|████████▋ | 241/276 [17:23<02:19,  3.98s/it]"
     ]
    },
    {
     "name": "stdout",
     "output_type": "stream",
     "text": [
      "Output range: [-2.658, 20.691]\n",
      "Class 1 prob range: [0.000, 0.953]\n",
      "Positive pixels in batch: 774491 / 819200\n",
      "Saved debug image with 4 polygons\n"
     ]
    },
    {
     "name": "stderr",
     "output_type": "stream",
     "text": [
      "Processing tiles:  88%|████████▊ | 242/276 [17:27<02:10,  3.85s/it]"
     ]
    },
    {
     "name": "stdout",
     "output_type": "stream",
     "text": [
      "Output range: [-2.819, 8.144]\n",
      "Class 1 prob range: [0.000, 0.963]\n",
      "Positive pixels in batch: 804881 / 819200\n",
      "Saved debug image with 2 polygons\n"
     ]
    },
    {
     "name": "stderr",
     "output_type": "stream",
     "text": [
      "Processing tiles:  88%|████████▊ | 243/276 [17:31<02:05,  3.79s/it]"
     ]
    },
    {
     "name": "stdout",
     "output_type": "stream",
     "text": [
      "Output range: [-2.681, 15.751]\n",
      "Class 1 prob range: [0.000, 0.952]\n",
      "Positive pixels in batch: 735739 / 819200\n",
      "Saved debug image with 1 polygons\n"
     ]
    },
    {
     "name": "stderr",
     "output_type": "stream",
     "text": [
      "Processing tiles:  88%|████████▊ | 244/276 [17:34<01:58,  3.72s/it]"
     ]
    },
    {
     "name": "stdout",
     "output_type": "stream",
     "text": [
      "Output range: [-2.625, 1.041]\n",
      "Class 1 prob range: [0.335, 0.952]\n",
      "Positive pixels in batch: 819200 / 819200\n"
     ]
    },
    {
     "name": "stderr",
     "output_type": "stream",
     "text": [
      "Processing tiles:  89%|████████▉ | 245/276 [17:38<01:55,  3.73s/it]"
     ]
    },
    {
     "name": "stdout",
     "output_type": "stream",
     "text": [
      "Output range: [-2.645, 18.352]\n",
      "Class 1 prob range: [0.000, 0.950]\n",
      "Positive pixels in batch: 800891 / 819200\n",
      "Saved debug image with 1 polygons\n"
     ]
    },
    {
     "name": "stderr",
     "output_type": "stream",
     "text": [
      "Processing tiles:  89%|████████▉ | 246/276 [17:42<01:51,  3.71s/it]"
     ]
    },
    {
     "name": "stdout",
     "output_type": "stream",
     "text": [
      "Output range: [-2.720, 13.788]\n",
      "Class 1 prob range: [0.000, 0.948]\n",
      "Positive pixels in batch: 795355 / 819200\n",
      "Saved debug image with 4 polygons\n"
     ]
    },
    {
     "name": "stderr",
     "output_type": "stream",
     "text": [
      "Processing tiles:  89%|████████▉ | 247/276 [17:45<01:46,  3.67s/it]"
     ]
    },
    {
     "name": "stdout",
     "output_type": "stream",
     "text": [
      "Output range: [-2.745, 19.246]\n",
      "Class 1 prob range: [0.000, 0.950]\n",
      "Positive pixels in batch: 785872 / 819200\n",
      "Saved debug image with 8 polygons\n"
     ]
    },
    {
     "name": "stderr",
     "output_type": "stream",
     "text": [
      "Processing tiles:  90%|████████▉ | 248/276 [17:49<01:45,  3.77s/it]"
     ]
    },
    {
     "name": "stdout",
     "output_type": "stream",
     "text": [
      "Output range: [-2.673, 19.246]\n",
      "Class 1 prob range: [0.000, 0.951]\n",
      "Positive pixels in batch: 782721 / 819200\n",
      "Saved debug image with 7 polygons\n"
     ]
    },
    {
     "name": "stderr",
     "output_type": "stream",
     "text": [
      "Processing tiles:  90%|█████████ | 249/276 [17:53<01:42,  3.79s/it]"
     ]
    },
    {
     "name": "stdout",
     "output_type": "stream",
     "text": [
      "Output range: [-2.731, 17.058]\n",
      "Class 1 prob range: [0.000, 0.958]\n",
      "Positive pixels in batch: 809158 / 819200\n",
      "Saved debug image with 1 polygons\n"
     ]
    },
    {
     "name": "stderr",
     "output_type": "stream",
     "text": [
      "Processing tiles:  91%|█████████ | 250/276 [17:57<01:39,  3.83s/it]"
     ]
    },
    {
     "name": "stdout",
     "output_type": "stream",
     "text": [
      "Output range: [-2.634, 17.058]\n",
      "Class 1 prob range: [0.000, 0.952]\n",
      "Positive pixels in batch: 798026 / 819200\n",
      "Saved debug image with 7 polygons\n"
     ]
    },
    {
     "name": "stderr",
     "output_type": "stream",
     "text": [
      "Processing tiles:  91%|█████████ | 251/276 [18:01<01:37,  3.90s/it]"
     ]
    },
    {
     "name": "stdout",
     "output_type": "stream",
     "text": [
      "Output range: [-2.662, 7.151]\n",
      "Class 1 prob range: [0.001, 0.951]\n",
      "Positive pixels in batch: 813212 / 819200\n",
      "Saved debug image with 3 polygons\n"
     ]
    },
    {
     "name": "stderr",
     "output_type": "stream",
     "text": [
      "Processing tiles:  91%|█████████▏| 252/276 [18:06<01:42,  4.28s/it]"
     ]
    },
    {
     "name": "stdout",
     "output_type": "stream",
     "text": [
      "Output range: [-2.918, 3.401]\n",
      "Class 1 prob range: [0.024, 0.955]\n",
      "Positive pixels in batch: 814731 / 819200\n",
      "Saved debug image with 2 polygons\n"
     ]
    },
    {
     "name": "stderr",
     "output_type": "stream",
     "text": [
      "Processing tiles:  92%|█████████▏| 253/276 [18:11<01:45,  4.58s/it]"
     ]
    },
    {
     "name": "stdout",
     "output_type": "stream",
     "text": [
      "Output range: [-2.972, 20.691]\n",
      "Class 1 prob range: [0.000, 0.958]\n",
      "Positive pixels in batch: 774700 / 819200\n",
      "Saved debug image with 3 polygons\n"
     ]
    },
    {
     "name": "stderr",
     "output_type": "stream",
     "text": [
      "Processing tiles:  92%|█████████▏| 254/276 [18:17<01:48,  4.91s/it]"
     ]
    },
    {
     "name": "stdout",
     "output_type": "stream",
     "text": [
      "Output range: [-2.819, 13.391]\n",
      "Class 1 prob range: [0.000, 0.963]\n",
      "Positive pixels in batch: 789764 / 819200\n",
      "Saved debug image with 2 polygons\n"
     ]
    },
    {
     "name": "stderr",
     "output_type": "stream",
     "text": [
      "Processing tiles:  92%|█████████▏| 255/276 [18:22<01:44,  4.99s/it]"
     ]
    },
    {
     "name": "stdout",
     "output_type": "stream",
     "text": [
      "Output range: [-2.622, 14.711]\n",
      "Class 1 prob range: [0.000, 0.950]\n",
      "Positive pixels in batch: 771564 / 819200\n",
      "Saved debug image with 3 polygons\n"
     ]
    },
    {
     "name": "stderr",
     "output_type": "stream",
     "text": [
      "Processing tiles:  93%|█████████▎| 256/276 [18:27<01:40,  5.03s/it]"
     ]
    },
    {
     "name": "stdout",
     "output_type": "stream",
     "text": [
      "Output range: [-2.591, 0.404]\n",
      "Class 1 prob range: [0.558, 0.950]\n",
      "Positive pixels in batch: 819200 / 819200\n"
     ]
    },
    {
     "name": "stderr",
     "output_type": "stream",
     "text": [
      "Processing tiles:  93%|█████████▎| 257/276 [18:32<01:35,  5.03s/it]"
     ]
    },
    {
     "name": "stdout",
     "output_type": "stream",
     "text": [
      "Output range: [-2.635, 0.918]\n",
      "Class 1 prob range: [0.360, 0.946]\n",
      "Positive pixels in batch: 819200 / 819200\n"
     ]
    },
    {
     "name": "stderr",
     "output_type": "stream",
     "text": [
      "Processing tiles:  93%|█████████▎| 258/276 [18:37<01:29,  4.96s/it]"
     ]
    },
    {
     "name": "stdout",
     "output_type": "stream",
     "text": [
      "Output range: [-2.756, 2.830]\n",
      "Class 1 prob range: [0.041, 0.948]\n",
      "Positive pixels in batch: 818334 / 819200\n"
     ]
    },
    {
     "name": "stderr",
     "output_type": "stream",
     "text": [
      "Processing tiles:  94%|█████████▍| 259/276 [18:42<01:24,  4.99s/it]"
     ]
    },
    {
     "name": "stdout",
     "output_type": "stream",
     "text": [
      "Output range: [-2.756, 19.246]\n",
      "Class 1 prob range: [0.000, 0.950]\n",
      "Positive pixels in batch: 804072 / 819200\n",
      "Saved debug image with 3 polygons\n"
     ]
    },
    {
     "name": "stderr",
     "output_type": "stream",
     "text": [
      "Processing tiles:  94%|█████████▍| 260/276 [18:48<01:20,  5.06s/it]"
     ]
    },
    {
     "name": "stdout",
     "output_type": "stream",
     "text": [
      "Output range: [-2.673, 19.246]\n",
      "Class 1 prob range: [0.000, 0.951]\n",
      "Positive pixels in batch: 798572 / 819200\n",
      "Saved debug image with 2 polygons\n"
     ]
    },
    {
     "name": "stderr",
     "output_type": "stream",
     "text": [
      "Processing tiles:  95%|█████████▍| 261/276 [18:53<01:15,  5.05s/it]"
     ]
    },
    {
     "name": "stdout",
     "output_type": "stream",
     "text": [
      "Output range: [-2.721, 5.730]\n",
      "Class 1 prob range: [0.002, 0.958]\n",
      "Positive pixels in batch: 814767 / 819200\n"
     ]
    },
    {
     "name": "stderr",
     "output_type": "stream",
     "text": [
      "Processing tiles:  95%|█████████▍| 262/276 [18:57<01:09,  4.96s/it]"
     ]
    },
    {
     "name": "stdout",
     "output_type": "stream",
     "text": [
      "Output range: [-2.634, 5.730]\n",
      "Class 1 prob range: [0.002, 0.952]\n",
      "Positive pixels in batch: 813617 / 819200\n",
      "Saved debug image with 5 polygons\n"
     ]
    },
    {
     "name": "stderr",
     "output_type": "stream",
     "text": [
      "Processing tiles:  95%|█████████▌| 263/276 [19:02<01:04,  4.97s/it]"
     ]
    },
    {
     "name": "stdout",
     "output_type": "stream",
     "text": [
      "Output range: [-2.687, 7.151]\n",
      "Class 1 prob range: [0.001, 0.954]\n",
      "Positive pixels in batch: 814343 / 819200\n",
      "Saved debug image with 2 polygons\n"
     ]
    },
    {
     "name": "stderr",
     "output_type": "stream",
     "text": [
      "Processing tiles:  96%|█████████▌| 264/276 [19:07<00:59,  4.98s/it]"
     ]
    },
    {
     "name": "stdout",
     "output_type": "stream",
     "text": [
      "Output range: [-2.919, 1.614]\n",
      "Class 1 prob range: [0.182, 0.955]\n",
      "Positive pixels in batch: 818415 / 819200\n"
     ]
    },
    {
     "name": "stderr",
     "output_type": "stream",
     "text": [
      "Processing tiles:  96%|█████████▌| 265/276 [19:12<00:54,  4.92s/it]"
     ]
    },
    {
     "name": "stdout",
     "output_type": "stream",
     "text": [
      "Output range: [-3.000, 11.616]\n",
      "Class 1 prob range: [0.000, 0.960]\n",
      "Positive pixels in batch: 812513 / 819200\n",
      "Saved debug image with 3 polygons\n"
     ]
    },
    {
     "name": "stderr",
     "output_type": "stream",
     "text": [
      "Processing tiles:  96%|█████████▋| 266/276 [19:17<00:48,  4.81s/it]"
     ]
    },
    {
     "name": "stdout",
     "output_type": "stream",
     "text": [
      "Output range: [-2.748, 13.391]\n",
      "Class 1 prob range: [0.000, 0.955]\n",
      "Positive pixels in batch: 792864 / 819200\n"
     ]
    },
    {
     "name": "stderr",
     "output_type": "stream",
     "text": [
      "Processing tiles:  97%|█████████▋| 267/276 [19:21<00:41,  4.64s/it]"
     ]
    },
    {
     "name": "stdout",
     "output_type": "stream",
     "text": [
      "Output range: [-2.622, 14.718]\n",
      "Class 1 prob range: [0.000, 0.950]\n",
      "Positive pixels in batch: 788795 / 819200\n",
      "Saved debug image with 2 polygons\n"
     ]
    },
    {
     "name": "stderr",
     "output_type": "stream",
     "text": [
      "Processing tiles:  97%|█████████▋| 268/276 [19:26<00:37,  4.71s/it]"
     ]
    },
    {
     "name": "stdout",
     "output_type": "stream",
     "text": [
      "Output range: [-2.591, 0.402]\n",
      "Class 1 prob range: [0.558, 0.950]\n",
      "Positive pixels in batch: 819200 / 819200\n"
     ]
    },
    {
     "name": "stderr",
     "output_type": "stream",
     "text": [
      "Processing tiles:  97%|█████████▋| 269/276 [19:31<00:33,  4.81s/it]"
     ]
    },
    {
     "name": "stdout",
     "output_type": "stream",
     "text": [
      "Output range: [-2.595, 0.395]\n",
      "Class 1 prob range: [0.626, 0.944]\n",
      "Positive pixels in batch: 819200 / 819200\n"
     ]
    },
    {
     "name": "stderr",
     "output_type": "stream",
     "text": [
      "Processing tiles:  98%|█████████▊| 270/276 [19:35<00:28,  4.74s/it]"
     ]
    },
    {
     "name": "stdout",
     "output_type": "stream",
     "text": [
      "Output range: [-2.589, 0.410]\n",
      "Class 1 prob range: [0.574, 0.942]\n",
      "Positive pixels in batch: 819200 / 819200\n"
     ]
    },
    {
     "name": "stderr",
     "output_type": "stream",
     "text": [
      "Processing tiles:  98%|█████████▊| 271/276 [19:40<00:23,  4.72s/it]"
     ]
    },
    {
     "name": "stdout",
     "output_type": "stream",
     "text": [
      "Output range: [-2.625, 0.894]\n",
      "Class 1 prob range: [0.366, 0.941]\n",
      "Positive pixels in batch: 819200 / 819200\n"
     ]
    },
    {
     "name": "stderr",
     "output_type": "stream",
     "text": [
      "Processing tiles:  99%|█████████▊| 272/276 [19:44<00:18,  4.57s/it]"
     ]
    },
    {
     "name": "stdout",
     "output_type": "stream",
     "text": [
      "Output range: [-2.625, 1.397]\n",
      "Class 1 prob range: [0.226, 0.939]\n",
      "Positive pixels in batch: 819010 / 819200\n"
     ]
    },
    {
     "name": "stderr",
     "output_type": "stream",
     "text": [
      "Processing tiles:  99%|█████████▉| 273/276 [19:49<00:13,  4.51s/it]"
     ]
    },
    {
     "name": "stdout",
     "output_type": "stream",
     "text": [
      "Output range: [-2.633, 1.469]\n",
      "Class 1 prob range: [0.201, 0.948]\n",
      "Positive pixels in batch: 817867 / 819200\n"
     ]
    },
    {
     "name": "stderr",
     "output_type": "stream",
     "text": [
      "Processing tiles:  99%|█████████▉| 274/276 [19:53<00:08,  4.38s/it]"
     ]
    },
    {
     "name": "stdout",
     "output_type": "stream",
     "text": [
      "Output range: [-2.633, 1.514]\n",
      "Class 1 prob range: [0.191, 0.948]\n",
      "Positive pixels in batch: 817829 / 819200\n",
      "Saved debug image with 1 polygons\n"
     ]
    },
    {
     "name": "stderr",
     "output_type": "stream",
     "text": [
      "Processing tiles: 100%|█████████▉| 275/276 [19:57<00:04,  4.32s/it]"
     ]
    },
    {
     "name": "stdout",
     "output_type": "stream",
     "text": [
      "Output range: [-2.687, 1.514]\n",
      "Class 1 prob range: [0.191, 0.954]\n",
      "Positive pixels in batch: 818689 / 819200\n"
     ]
    },
    {
     "name": "stderr",
     "output_type": "stream",
     "text": [
      "Processing tiles: 100%|██████████| 276/276 [20:01<00:00,  4.35s/it]"
     ]
    },
    {
     "name": "stdout",
     "output_type": "stream",
     "text": [
      "Output range: [-2.721, 4.664]\n",
      "Class 1 prob range: [0.007, 0.955]\n",
      "Positive pixels in batch: 817431 / 819200\n",
      "Saved debug image with 1 polygons\n",
      "Pixel statistics: 215950447/226099200 positive pixels (95.51%)\n",
      "Extracted 2835 raw polygons\n",
      "Before validity check: 2835 polygons\n"
     ]
    },
    {
     "name": "stderr",
     "output_type": "stream",
     "text": [
      "\n"
     ]
    },
    {
     "name": "stdout",
     "output_type": "stream",
     "text": [
      "After validity check: 2835 polygons\n",
      "After dissolve/explode: 687 polygons\n",
      "Area range: [0.20, 65.01]\n",
      "After area filter: 687 polygons\n",
      "Saved 687 polygons to F:\\POST GRADUATE CRASTE LF\\SECOND YEAR\\Machine Learning\\UNET\\buildings.gpkg\n"
     ]
    }
   ],
   "source": [
    "import os\n",
    "import gc\n",
    "import numpy as np\n",
    "from pathlib import Path\n",
    "import torch\n",
    "import skimage\n",
    "import torch.nn as nn\n",
    "from torch.utils.data import Dataset, DataLoader\n",
    "import albumentations as A\n",
    "from albumentations.pytorch import ToTensorV2\n",
    "import rasterio\n",
    "from rasterio.windows import Window\n",
    "import geopandas as gpd\n",
    "from shapely.geometry import Polygon\n",
    "from tqdm import tqdm\n",
    "import warnings\n",
    "from PIL import Image  # ← ADD THIS IMPORT\n",
    "warnings.filterwarnings('ignore')\n",
    "\n",
    "# ===========================\n",
    "# U-Net Model Definition (Copy from your training script)\n",
    "# ===========================\n",
    "class DoubleConv(nn.Module):\n",
    "    def __init__(self, in_ch, out_ch):\n",
    "        super().__init__()\n",
    "        self.net = nn.Sequential(\n",
    "            nn.Conv2d(in_ch, out_ch, kernel_size=3, padding=1),\n",
    "            nn.BatchNorm2d(out_ch),\n",
    "            nn.ReLU(inplace=True),\n",
    "            nn.Conv2d(out_ch, out_ch, kernel_size=3, padding=1),\n",
    "            nn.BatchNorm2d(out_ch),\n",
    "            nn.ReLU(inplace=True),\n",
    "        )\n",
    "    def forward(self, x): return self.net(x)\n",
    "\n",
    "class UNet(nn.Module):\n",
    "    def __init__(self, in_channels=3, out_channels=1, base_filters=64):\n",
    "        super().__init__()\n",
    "        f = base_filters\n",
    "        self.inc = DoubleConv(in_channels, f)\n",
    "        self.down1 = nn.Sequential(nn.MaxPool2d(2), DoubleConv(f, f*2))\n",
    "        self.down2 = nn.Sequential(nn.MaxPool2d(2), DoubleConv(f*2, f*4))\n",
    "        self.down3 = nn.Sequential(nn.MaxPool2d(2), DoubleConv(f*4, f*8))\n",
    "        self.down4 = nn.Sequential(nn.MaxPool2d(2), DoubleConv(f*8, f*8))\n",
    "        self.up1 = nn.ConvTranspose2d(f*8, f*8, kernel_size=2, stride=2)\n",
    "        self.conv1 = DoubleConv(f*16, f*4)\n",
    "        self.up2 = nn.ConvTranspose2d(f*4, f*4, kernel_size=2, stride=2)\n",
    "        self.conv2 = DoubleConv(f*8, f*2)\n",
    "        self.up3 = nn.ConvTranspose2d(f*2, f*2, kernel_size=2, stride=2)\n",
    "        self.conv3 = DoubleConv(f*4, f)\n",
    "        self.up4 = nn.ConvTranspose2d(f, f, kernel_size=2, stride=2)\n",
    "        self.conv4 = DoubleConv(f*2, f)\n",
    "        self.outc = nn.Conv2d(f, out_channels, kernel_size=1)\n",
    "    \n",
    "    def forward(self, x):\n",
    "        x1 = self.inc(x)\n",
    "        x2 = self.down1(x1)\n",
    "        x3 = self.down2(x2)\n",
    "        x4 = self.down3(x3)\n",
    "        x5 = self.down4(x4)\n",
    "        x = self.up1(x5)\n",
    "        x = torch.cat([x, x4], dim=1)\n",
    "        x = self.conv1(x)\n",
    "        x = self.up2(x)\n",
    "        x = torch.cat([x, x3], dim=1)\n",
    "        x = self.conv2(x)\n",
    "        x = self.up3(x)\n",
    "        x = torch.cat([x, x2], dim=1)\n",
    "        x = self.conv3(x)\n",
    "        x = self.up4(x)\n",
    "        x = torch.cat([x, x1], dim=1)\n",
    "        x = self.conv4(x)\n",
    "        x = self.outc(x)\n",
    "        return x\n",
    "\n",
    "# ===========================\n",
    "# Orthomosaic Tiling Dataset\n",
    "# ===========================\n",
    "class OrthomosaicTiler(Dataset):\n",
    "    def __init__(self, ortho_path, tile_size=256, stride=None, transform=None):\n",
    "        self.ortho_path = ortho_path\n",
    "        self.tile_size = tile_size\n",
    "        self.stride = stride or tile_size // 2\n",
    "        self.transform = transform\n",
    "        \n",
    "        with rasterio.open(ortho_path) as src:\n",
    "            self.width = src.width\n",
    "            self.height = src.height\n",
    "            self.crs = src.crs\n",
    "            self.transform_affine = src.transform\n",
    "            \n",
    "        self.tile_positions = []\n",
    "        for y in range(0, self.height, self.stride):\n",
    "            for x in range(0, self.width, self.stride):\n",
    "                if x + tile_size <= self.width and y + tile_size <= self.height:\n",
    "                    self.tile_positions.append((x, y))\n",
    "    \n",
    "    def __len__(self):\n",
    "        return len(self.tile_positions)\n",
    "    \n",
    "    def __getitem__(self, idx):\n",
    "        x, y = self.tile_positions[idx]\n",
    "        \n",
    "        with rasterio.open(self.ortho_path) as src:\n",
    "            window = Window(x, y, self.tile_size, self.tile_size)\n",
    "            tile = src.read(window=window)\n",
    "            \n",
    "        if tile.shape[0] == 1:\n",
    "            tile = np.stack([tile[0]] * 3)\n",
    "        elif tile.shape[0] == 4:\n",
    "            tile = tile[:3]\n",
    "        \n",
    "        tile = np.transpose(tile, (1, 2, 0))\n",
    "        if tile.dtype != np.uint8:\n",
    "            tile = (tile / tile.max() * 255).astype(np.uint8)\n",
    "        \n",
    "        if self.transform:\n",
    "            augmented = self.transform(image=tile)\n",
    "            tile = augmented[\"image\"]\n",
    "        else:\n",
    "            transform = A.Compose([\n",
    "                A.Normalize(mean=(0.485, 0.456, 0.406), std=(0.229, 0.224, 0.225)),\n",
    "                ToTensorV2()\n",
    "            ])\n",
    "            augmented = transform(image=tile)\n",
    "            tile = augmented[\"image\"]\n",
    "        \n",
    "        return tile, x, y\n",
    "\n",
    "# ===========================\n",
    "# Polygon Extraction\n",
    "# ===========================\n",
    "def mask_to_polygons(mask, transform, min_area=10.0):\n",
    "    \"\"\"Convert binary mask to polygons with georeferencing\"\"\"\n",
    "    from skimage import measure\n",
    "    \n",
    "    polygons = []\n",
    "    contours = measure.find_contours(mask, 0.5)\n",
    "    \n",
    "    for contour in contours:\n",
    "        world_coords = []\n",
    "        for y, x in contour:\n",
    "            world_x, world_y = transform * (x, y)\n",
    "            world_coords.append((world_x, world_y))\n",
    "        \n",
    "        if len(world_coords) >= 3:\n",
    "            polygon = Polygon(world_coords)\n",
    "            if polygon.area >= min_area:\n",
    "                polygons.append(polygon)\n",
    "    \n",
    "    return polygons\n",
    "\n",
    "# ===========================\n",
    "# Main Inference Pipeline\n",
    "# ===========================\n",
    "def process_orthomosaic_to_gpkg(\n",
    "    model_path,\n",
    "    ortho_path,\n",
    "    output_gpkg,\n",
    "    tile_size=640,\n",
    "    stride=320,\n",
    "    batch_size=4,\n",
    "    threshold=0.3,  # Lower threshold to catch more predictions\n",
    "    min_polygon_area=5.0,  # Much smaller area threshold\n",
    "    device=None\n",
    "):\n",
    "    \"\"\"\n",
    "    Process orthomosaic with trained U-Net and export polygons to GPKG\n",
    "    \"\"\"\n",
    "    \n",
    "    device = device or (\"cuda\" if torch.cuda.is_available() else \"cpu\")\n",
    "    print(f\"Using device: {device}\")\n",
    "    \n",
    "    # Auto-detect num_classes from model\n",
    "    ckpt = torch.load(model_path, map_location=device)\n",
    "    outc_weight_shape = ckpt[\"model_state\"][\"outc.weight\"].shape\n",
    "    num_classes = outc_weight_shape[0]\n",
    "    print(f\"Detected model with {num_classes} output classes\")\n",
    "    \n",
    "    # Load model\n",
    "    model = UNet(in_channels=3, out_channels=num_classes).to(device)\n",
    "    model.load_state_dict(ckpt[\"model_state\"])\n",
    "    model.eval()\n",
    "    print(\"Model loaded successfully\")\n",
    "    \n",
    "    # Prepare dataset\n",
    "    transform = A.Compose([\n",
    "        A.Normalize(mean=(0.485, 0.456, 0.406), std=(0.229, 0.224, 0.225)),\n",
    "        ToTensorV2()\n",
    "    ])\n",
    "    \n",
    "    dataset = OrthomosaicTiler(\n",
    "        ortho_path, \n",
    "        tile_size=tile_size, \n",
    "        stride=stride, \n",
    "        transform=transform\n",
    "    )\n",
    "    \n",
    "    dataloader = DataLoader(\n",
    "        dataset, \n",
    "        batch_size=batch_size, \n",
    "        shuffle=False, \n",
    "        num_workers=0,\n",
    "        pin_memory=True\n",
    "    )\n",
    "    \n",
    "    print(f\"Processing {len(dataset)} tiles from orthomosaic\")\n",
    "    \n",
    "    # Get CRS and transform from orthomosaic\n",
    "    with rasterio.open(ortho_path) as src:\n",
    "        crs = src.crs\n",
    "        base_transform = src.transform\n",
    "    \n",
    "    # Process tiles\n",
    "    all_polygons = []\n",
    "    total_pixels = 0\n",
    "    positive_pixels = 0\n",
    "    \n",
    "    with torch.no_grad():\n",
    "        for batch in tqdm(dataloader, desc=\"Processing tiles\"):\n",
    "            tiles, x_coords, y_coords = batch\n",
    "            tiles = tiles.to(device, non_blocking=True)\n",
    "            \n",
    "            outputs = model(tiles)\n",
    "            \n",
    "            # DEBUG: Print output statistics\n",
    "            print(f\"Output range: [{outputs.min().item():.3f}, {outputs.max().item():.3f}]\")\n",
    "            \n",
    "            if num_classes == 2:\n",
    "                # Use softmax and take class 1 (foreground)\n",
    "                probs = torch.softmax(outputs, dim=1)\n",
    "                class1_probs = probs[:, 1]  # Foreground probabilities\n",
    "                preds = (class1_probs > threshold).cpu().numpy()\n",
    "                \n",
    "                # DEBUG: Print probability statistics\n",
    "                print(f\"Class 1 prob range: [{class1_probs.min().item():.3f}, {class1_probs.max().item():.3f}]\")\n",
    "                print(f\"Positive pixels in batch: {np.sum(preds)} / {preds.size}\")\n",
    "                \n",
    "            elif num_classes == 1:\n",
    "                probs = torch.sigmoid(outputs)\n",
    "                preds = (probs > threshold).squeeze(1).cpu().numpy()\n",
    "            else:\n",
    "                preds = torch.argmax(outputs, dim=1).cpu().numpy()\n",
    "            \n",
    "            for i, (pred, x, y) in enumerate(zip(preds, x_coords, y_coords)):\n",
    "                total_pixels += pred.size\n",
    "                positive_pixels += np.sum(pred)\n",
    "                \n",
    "                tile_transform = rasterio.windows.transform(\n",
    "                    Window(x.item(), y.item(), tile_size, tile_size), \n",
    "                    base_transform\n",
    "                )\n",
    "                \n",
    "                polygons = mask_to_polygons(\n",
    "                    pred, \n",
    "                    tile_transform, \n",
    "                    min_area=min_polygon_area\n",
    "                )\n",
    "                all_polygons.extend(polygons)\n",
    "                \n",
    "                # DEBUG: Save first tile prediction as image to check\n",
    "                if i == 0 and len(polygons) > 0:\n",
    "                    debug_mask = (pred * 255).astype(np.uint8)\n",
    "                    Image.fromarray(debug_mask).save(\"debug_first_tile.png\")\n",
    "                    print(f\"Saved debug image with {len(polygons)} polygons\")\n",
    "    \n",
    "    print(f\"Pixel statistics: {positive_pixels}/{total_pixels} positive pixels ({positive_pixels/total_pixels*100:.2f}%)\")\n",
    "    print(f\"Extracted {len(all_polygons)} raw polygons\")\n",
    "    \n",
    "    # Create and save GeoDataFrame\n",
    "    if all_polygons:\n",
    "        gdf = gpd.GeoDataFrame(\n",
    "            {'geometry': all_polygons},\n",
    "            crs=crs\n",
    "        )\n",
    "        \n",
    "        print(f\"Before validity check: {len(gdf)} polygons\")\n",
    "        gdf = gdf[gdf.is_valid]\n",
    "        print(f\"After validity check: {len(gdf)} polygons\")\n",
    "        \n",
    "        if len(gdf) > 0:\n",
    "            # Dissolve overlapping polygons\n",
    "            gdf = gdf.dissolve()\n",
    "            gdf = gdf.explode(index_parts=True).reset_index(drop=True)\n",
    "            print(f\"After dissolve/explode: {len(gdf)} polygons\")\n",
    "            \n",
    "            # Calculate areas and filter\n",
    "            gdf['area'] = gdf.geometry.area\n",
    "            print(f\"Area range: [{gdf['area'].min():.2f}, {gdf['area'].max():.2f}]\")\n",
    "            \n",
    "            gdf = gdf[gdf['area'] >= min_polygon_area]\n",
    "            print(f\"After area filter: {len(gdf)} polygons\")\n",
    "            \n",
    "            if len(gdf) > 0:\n",
    "                gdf.to_file(output_gpkg, driver='GPKG')\n",
    "                print(f\"Saved {len(gdf)} polygons to {output_gpkg}\")\n",
    "            else:\n",
    "                print(\"No polygons left after area filtering\")\n",
    "        else:\n",
    "            print(\"No valid polygons found\")\n",
    "    else:\n",
    "        print(\"No polygons extracted from any tiles\")\n",
    "    \n",
    "    # Cleanup\n",
    "    del model\n",
    "    torch.cuda.empty_cache()\n",
    "    gc.collect()\n",
    "\n",
    "# Also add this debug function to check the model output\n",
    "def debug_model_predictions(model_path, image_path, device=None):\n",
    "    \"\"\"Debug function to check model predictions on a single image\"\"\"\n",
    "    device = device or (\"cuda\" if torch.cuda.is_available() else \"cpu\")\n",
    "    \n",
    "    # Load model\n",
    "    ckpt = torch.load(model_path, map_location=device)\n",
    "    num_classes = ckpt[\"model_state\"][\"outc.weight\"].shape[0]\n",
    "    model = UNet(in_channels=3, out_channels=num_classes).to(device)\n",
    "    model.load_state_dict(ckpt[\"model_state\"])\n",
    "    model.eval()\n",
    "    \n",
    "    # Load and process image\n",
    "    img = np.array(Image.open(image_path).convert(\"RGB\"))\n",
    "    transform = A.Compose([\n",
    "        A.Normalize(mean=(0.485, 0.456, 0.406), std=(0.229, 0.224, 0.225)),\n",
    "        ToTensorV2()\n",
    "    ])\n",
    "    augmented = transform(image=img)\n",
    "    inp = augmented[\"image\"].unsqueeze(0).to(device)\n",
    "    \n",
    "    with torch.no_grad():\n",
    "        outputs = model(inp)\n",
    "        print(f\"Raw outputs shape: {outputs.shape}\")\n",
    "        print(f\"Raw outputs range: [{outputs.min().item():.3f}, {outputs.max().item():.3f}]\")\n",
    "        \n",
    "        if num_classes == 2:\n",
    "            probs = torch.softmax(outputs, dim=1)\n",
    "            print(f\"Class 0 probs: [{probs[0,0].min().item():.3f}, {probs[0,0].max().item():.3f}]\")\n",
    "            print(f\"Class 1 probs: [{probs[0,1].min().item():.3f}, {probs[0,1].max().item():.3f}]\")\n",
    "            \n",
    "            for threshold in [0.1, 0.3, 0.5, 0.7]:\n",
    "                pred = (probs[0, 1] > threshold).cpu().numpy()\n",
    "                print(f\"Threshold {threshold}: {np.sum(pred)}/{pred.size} positive pixels ({np.sum(pred)/pred.size*100:.1f}%)\")\n",
    "\n",
    "# Run debug first\n",
    "if __name__ == \"__main__\":\n",
    "    # First debug with a sample image\n",
    "    sample_image = r\"F:\\POST GRADUATE CRASTE LF\\SECOND YEAR\\Machine Learning\\UNET\\Dataset_unet\\images\\train\\tile_y00006_x00015_png.rf.3ad86fd57d4cffe67e0a97e53c9fe4d9.jpg\"\n",
    "    debug_model_predictions(r\"F:\\POST GRADUATE CRASTE LF\\SECOND YEAR\\Machine Learning\\UNET\\unet_best.pth\", sample_image)\n",
    "    \n",
    "    # Then process orthomosaic\n",
    "    process_orthomosaic_to_gpkg(\n",
    "        model_path=r\"F:\\POST GRADUATE CRASTE LF\\SECOND YEAR\\Machine Learning\\UNET\\unet_best.pth\",\n",
    "        ortho_path=r\"Orthomosaic.tif\",\n",
    "        output_gpkg=r\"F:\\POST GRADUATE CRASTE LF\\SECOND YEAR\\Machine Learning\\UNET\\buildings.gpkg\",\n",
    "        tile_size=640,\n",
    "        stride=320,\n",
    "        batch_size=2,\n",
    "        threshold=0.3,  # Start with lower threshold\n",
    "        min_polygon_area=0.2  # Smaller area\n",
    "    )"
   ]
  }
 ],
 "metadata": {
  "kaggle": {
   "accelerator": "gpu",
   "dataSources": [
    {
     "datasetId": 8493254,
     "sourceId": 13385428,
     "sourceType": "datasetVersion"
    }
   ],
   "dockerImageVersionId": 31154,
   "isGpuEnabled": true,
   "isInternetEnabled": true,
   "language": "python",
   "sourceType": "notebook"
  },
  "kernelspec": {
   "display_name": "DL_Unet",
   "language": "python",
   "name": "python3"
  },
  "language_info": {
   "codemirror_mode": {
    "name": "ipython",
    "version": 3
   },
   "file_extension": ".py",
   "mimetype": "text/x-python",
   "name": "python",
   "nbconvert_exporter": "python",
   "pygments_lexer": "ipython3",
   "version": "3.11.13"
  }
 },
 "nbformat": 4,
 "nbformat_minor": 5
}
